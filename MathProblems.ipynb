{
 "cells": [
  {
   "cell_type": "code",
   "execution_count": 52,
   "id": "c8677295",
   "metadata": {},
   "outputs": [],
   "source": [
    "import scipy\n",
    "from scipy.stats import norm, binom, iqr, t, tstd, ttest_ind_from_stats, ttest_1samp\n",
    "from scipy.stats.distributions import chi2\n",
    "import numpy as np\n",
    "from numpy.random import seed\n",
    "from numpy.random import normal\n",
    "import matplotlib.pyplot as plt"
   ]
  },
  {
   "cell_type": "code",
   "execution_count": 53,
   "id": "0c5c5915",
   "metadata": {},
   "outputs": [],
   "source": [
    "def to_percentage(n):\n",
    "    return str(n * 100) + \"%\""
   ]
  },
  {
   "cell_type": "code",
   "execution_count": 54,
   "id": "54c26572",
   "metadata": {},
   "outputs": [],
   "source": [
    "def percentage_until_z_score(z_score):\n",
    "    res = norm.cdf(z_score)\n",
    "    print(to_percentage(res))\n",
    "    return res"
   ]
  },
  {
   "cell_type": "code",
   "execution_count": 55,
   "id": "9fa60ddb",
   "metadata": {},
   "outputs": [],
   "source": [
    "def percentage_after_z_score(z_score):\n",
    "    res = norm.cdf(-z_score)\n",
    "    print(to_percentage(res))\n",
    "    return res\n",
    "\n",
    "def percentage_between_z_score(z1, z2):\n",
    "    res = percentage_until_z_score(z2) - percentage_until_z_score(z1)\n",
    "    print(res)\n",
    "    return res"
   ]
  },
  {
   "cell_type": "code",
   "execution_count": 56,
   "id": "cfb015c9",
   "metadata": {},
   "outputs": [],
   "source": [
    "def percentage_two_tail(z_score):\n",
    "    res = norm.cdf(1-((1 - z_score) / 2))\n",
    "    print(to_percentage(res))\n",
    "    return to_percentage(res)\n",
    "def two_tail_zscore(percentage):\n",
    "    res = norm.ppf(1 - (1 - percentage) / 2)\n",
    "    print(res)\n",
    "    return res"
   ]
  },
  {
   "cell_type": "code",
   "execution_count": 57,
   "id": "f62301a0",
   "metadata": {},
   "outputs": [],
   "source": [
    "def calc_zscore(val, mean, std_d):\n",
    "    res = (val - mean) / std_d\n",
    "    print(res)\n",
    "    return res"
   ]
  },
  {
   "cell_type": "code",
   "execution_count": 58,
   "id": "40151bd6",
   "metadata": {},
   "outputs": [],
   "source": [
    "def p_less_than(val, mean, std_d):\n",
    "    res = norm(mean, std_d).cdf(val)\n",
    "    print(to_percentage(res))\n",
    "    return res"
   ]
  },
  {
   "cell_type": "code",
   "execution_count": 59,
   "id": "fcb6e85a",
   "metadata": {},
   "outputs": [],
   "source": [
    "def p_more_than(val, mean, std_d):\n",
    "    res = (1 - norm(mean, std_d).cdf(val))\n",
    "    print(to_percentage(res))\n",
    "    return res"
   ]
  },
  {
   "cell_type": "code",
   "execution_count": 60,
   "id": "f267f02e",
   "metadata": {},
   "outputs": [],
   "source": [
    "def p_between(val1, val2, mean, std_d):\n",
    "    if val1 <= val2:\n",
    "        return p_less_than(val2, mean, std_d) - p_less_than(val1, mean, std_d)\n",
    "    else:\n",
    "        return p_less_than(val1, mean, std_d) - p_less_than(val2, mean, std_d)"
   ]
  },
  {
   "cell_type": "code",
   "execution_count": 61,
   "id": "ed429619",
   "metadata": {},
   "outputs": [],
   "source": [
    "def p_to_zscore(percentage):\n",
    "    res = norm.ppf(percentage)\n",
    "    print(res)\n",
    "    return res\n",
    "\n",
    "def p_to_val(percentage, mean, std_d):\n",
    "    std_diff = p_to_zscore(percentage)\n",
    "    res = mean + std_diff * std_d\n",
    "    print(res)\n",
    "    return res"
   ]
  },
  {
   "cell_type": "code",
   "execution_count": 62,
   "id": "6b48ac8f",
   "metadata": {},
   "outputs": [],
   "source": [
    "def binomial_exact_p(sample_size, p, expected_val):\n",
    "    res = binom.pmf(expected_val, sample_size, p)\n",
    "    print(res)\n",
    "    return res"
   ]
  },
  {
   "cell_type": "code",
   "execution_count": 63,
   "id": "2d296328",
   "metadata": {},
   "outputs": [],
   "source": [
    "def binomial_less_or_equal_to_p(sample_size, p, val):\n",
    "    res = binom.cdf(val, sample_size, p)\n",
    "    print(res)\n",
    "    return res\n",
    "def binomial_less_than_p(sample_size, p, val):\n",
    "    res = binom.cdf(val - 1, sample_size, p)\n",
    "    print(res)\n",
    "    return res"
   ]
  },
  {
   "cell_type": "code",
   "execution_count": 64,
   "id": "6855ca29",
   "metadata": {},
   "outputs": [],
   "source": [
    "def binomial_more_or_equal_to_p(sample_size, p, val):\n",
    "    res = 1 - binom.cdf(val - 1, sample_size, p)\n",
    "    print(res)\n",
    "    return res\n",
    "\n",
    "def binomial_more_than_p(sample_size, p, val):\n",
    "    res = 1 - binom.cdf(val, sample_size, p)\n",
    "    print(res)\n",
    "    return res"
   ]
  },
  {
   "cell_type": "code",
   "execution_count": 65,
   "id": "ce5f312f",
   "metadata": {},
   "outputs": [],
   "source": [
    "def binomial_between_p(p1, p2, sample_size, p):\n",
    "    res = binomial_less_or_equal_to_p(sample_size, p, p2) - binomial_less_or_equal_to_p(sample_size, p, p1 - 1)\n",
    "    print(res)\n",
    "    return res"
   ]
  },
  {
   "cell_type": "code",
   "execution_count": 66,
   "id": "75417be3",
   "metadata": {},
   "outputs": [],
   "source": [
    "def std_of_binom(sample_size, p):\n",
    "    res = np.sqrt(sample_size * p * (1 - p))\n",
    "    print(res)\n",
    "    return res"
   ]
  },
  {
   "cell_type": "code",
   "execution_count": 67,
   "id": "ceb12804",
   "metadata": {},
   "outputs": [],
   "source": [
    "def se(p, sample_size):\n",
    "    res = np.sqrt((p * (1 - p) / sample_size))\n",
    "    print(res)\n",
    "    return res"
   ]
  },
  {
   "cell_type": "code",
   "execution_count": 68,
   "id": "ba1695b2",
   "metadata": {},
   "outputs": [],
   "source": [
    "def clt_more_than(p, sample_size, val):\n",
    "    stde = se(p, sample_size)\n",
    "    res = p_more_than(val, p, stde)\n",
    "    print(res)\n",
    "    return res"
   ]
  },
  {
   "cell_type": "code",
   "execution_count": 69,
   "id": "1a48f496",
   "metadata": {},
   "outputs": [],
   "source": [
    "def clt_p_to_z(p, sample_size, val):\n",
    "    stde = se(p, sample_size)\n",
    "    res = calc_zscore(val, p, stde)\n",
    "    print(res)\n",
    "    return res"
   ]
  },
  {
   "cell_type": "code",
   "execution_count": 70,
   "id": "b20bd252",
   "metadata": {},
   "outputs": [],
   "source": [
    "def confidence_interval(p, sample_size, conf_level_pct):\n",
    "    std_e = se(p, sample_size)\n",
    "    z = two_tail_zscore(conf_level_pct)\n",
    "    margin_e = std_e * z\n",
    "    print(\"margin error\", margin_e)\n",
    "    print(p - z * std_e, p + z * std_e)\n",
    "    return (p - z * std_e, p + z * std_e)\n",
    "\n",
    "def margin_of_err(z, se):\n",
    "    return z * se"
   ]
  },
  {
   "cell_type": "code",
   "execution_count": 71,
   "id": "a55d724c",
   "metadata": {},
   "outputs": [],
   "source": [
    "def conf_interval_in_populations(p1, p2, size_1, size_2, conf_level_pct):\n",
    "    se_est = np.sqrt(p1 * (1 - p1) / size_1 + p2 * (1 - p2) /size_2)\n",
    "    statistic = p1 - p2\n",
    "    z = two_tail_zscore(conf_level_pct)\n",
    "    res = (statistic - z * se_est, statistic + z * se_est)\n",
    "    print(res)\n",
    "    return res"
   ]
  },
  {
   "cell_type": "code",
   "execution_count": 72,
   "id": "aad664ef",
   "metadata": {},
   "outputs": [],
   "source": [
    "def one_proportion_z_test_statistic(p_observed, p_null_hypo, sample_size):\n",
    "  z = (p_observed - p_null_hypo) / np.sqrt(p_null_hypo * (1 - p_null_hypo) / sample_size)\n",
    "  print(\"one proportion z test statistic is\", z)\n",
    "  return z\n"
   ]
  },
  {
   "cell_type": "code",
   "execution_count": 73,
   "id": "ed753e31",
   "metadata": {},
   "outputs": [],
   "source": [
    "def hypo_one_pro(success, sample_size, population_p, confidence_level):\n",
    "  z = one_proportion_z_test_statistic(success/sample_size, population_p, sample_size)\n",
    "  print('z is', z)\n",
    "  print('percentage_after_z_score', percentage_after_z_score(z))\n",
    "  print('percentage_until_z_score', percentage_until_z_score(z))\n",
    "  print('confidence_interval', confidence_interval(success/sample_size, sample_size, confidence_level))\n"
   ]
  },
  {
   "cell_type": "code",
   "execution_count": 74,
   "id": "e60d2921",
   "metadata": {},
   "outputs": [],
   "source": [
    "def hypo_two_pro(success_1, sample_size_1, success_2, sample_size_2):\n",
    "  p1 = success_1/sample_size_1\n",
    "  p2 = success_2/sample_size_2\n",
    "  p = (success_1 + success_2) / (sample_size_1 + sample_size_2)\n",
    "  se = np.sqrt(p*(1-p)*(1/sample_size_1 + 1/sample_size_2))\n",
    "  z = (p1 - p2 - 0)/se\n",
    "  print('p1 ', p1)\n",
    "  print('p2 ', p2)\n",
    "  print('p ', p)\n",
    "  print('se', se)\n",
    "  print('z', z)\n",
    "  return {\n",
    "    \"z\": z,\n",
    "    \"p1\": p1,\n",
    "    \"p2\": p2,\n",
    "    \"p\": p,\n",
    "    \"se\": se,\n",
    "    \"p1_pop\": sample_size_1,\n",
    "    \"p2_pop\": sample_size_2,\n",
    "    \"p1_suc\": success_1,\n",
    "    \"p2_suc\": success_2\n",
    "  }"
   ]
  },
  {
   "cell_type": "code",
   "execution_count": 75,
   "id": "c7bbaaf1",
   "metadata": {},
   "outputs": [],
   "source": [
    "def calc_means_stde(n, std):\n",
    "    return std / np.sqrt(n)"
   ]
  },
  {
   "cell_type": "code",
   "execution_count": 76,
   "id": "3166ee06",
   "metadata": {},
   "outputs": [],
   "source": [
    "def calc_t(confi_level, data_count):\n",
    "    return t.ppf(1 - (1 - confi_level) / 2, data_count - 1)"
   ]
  },
  {
   "cell_type": "code",
   "execution_count": 77,
   "id": "ac46809f",
   "metadata": {},
   "outputs": [],
   "source": [
    "def calc_conv_interval_with_arr(arr, confi_level):\n",
    "    mean = np.mean(arr)\n",
    "    std = tstd(arr)\n",
    "    sample_size = len(arr)\n",
    "    se_mean = std / np.sqrt(sample_size)\n",
    "    t_val = calc_t(confi_level, sample_size)\n",
    "    print('mean', mean)\n",
    "    print('standard deviation', std)\n",
    "    print(\"standard err\", se_mean)\n",
    "    print('margin err', se_mean * t_val)\n",
    "    print('sample size', sample_size)\n",
    "    print(\"t value\", t_val)\n",
    "    return {\"conf_inter\": (mean - t_val * se_mean, mean + t_val * se_mean), \"mean\": mean, \"std\": std, \"s_size\": sample_size,\"se_mean\": se_mean,\"t_val\": t_val}"
   ]
  },
  {
   "cell_type": "code",
   "execution_count": 78,
   "id": "83b07c21",
   "metadata": {},
   "outputs": [],
   "source": [
    "def mean_conf_interval(sample_size, sample_mean, std, conf_level):\n",
    "    t_val = calc_t(conf_level, sample_size)\n",
    "    std_e = std/np.sqrt(sample_size)\n",
    "    print('margin_error', t_val * std_e)\n",
    "    return (sample_mean - t_val * std_e, sample_mean + t_val * std_e)"
   ]
  },
  {
   "cell_type": "code",
   "execution_count": 79,
   "id": "a521e6e7",
   "metadata": {},
   "outputs": [],
   "source": [
    "def t_dist_calc(mean_hat, mean, std, sample_size):\n",
    "    std_e = std / np.sqrt(sample_size)\n",
    "    res = (mean_hat - mean) / std_e\n",
    "    print(\"t is\", res)\n",
    "    return res"
   ]
  },
  {
   "cell_type": "code",
   "execution_count": 80,
   "id": "9cd1537a",
   "metadata": {},
   "outputs": [],
   "source": [
    "def calc_p_value_with_t(t_val, sample_size, option=\"ne\"):\n",
    "#     res = t.sf(abs(t_val), sample_size - 1)\n",
    "    t_val = abs(t_val)\n",
    "    s = sample_size - 1\n",
    "    if option == \"ne\":\n",
    "        return t.sf(t_val, s) * 2\n",
    "    elif option == \"lt\":\n",
    "        return t.sf(t_val, s)\n",
    "    elif option == \"gt\":\n",
    "        return t.sf(t_val, s)\n",
    "    return \"NOT RIGHT OPTION\""
   ]
  },
  {
   "cell_type": "code",
   "execution_count": 81,
   "id": "3138a631",
   "metadata": {},
   "outputs": [],
   "source": [
    "def calc_2_sample_t_interval(mean1, mean2, actual_mean1, actual_mean2, std_1, std_2, sample_size_1, sample_size_2):\n",
    "    res = ((mean1 - mean2) - (actual_mean1-actual_mean2))/np.sqrt(std_1*std_1/sample_size_1 + std_2*std_2/sample_size_2)\n",
    "    print(\"t for 2 sample is\", res)\n",
    "    return res"
   ]
  },
  {
   "cell_type": "code",
   "execution_count": 82,
   "id": "80348812",
   "metadata": {},
   "outputs": [],
   "source": [
    "def calc_chi_square(arr, expected, single=True):\n",
    "    res = 0.0\n",
    "    for i in range(len(arr)):\n",
    "        exp = expected if single else expected[i]\n",
    "        res = res +pow(arr[i] - exp, 2)/exp\n",
    "    pv = chi2.sf(res, len(arr) - 1)\n",
    "    print(\"chi square is\", res)\n",
    "    print(\"p-value is\", pv)\n",
    "    return {\"chi_square\": res, \"p_value\": pv}"
   ]
  },
  {
   "cell_type": "code",
   "execution_count": 83,
   "id": "568c7322",
   "metadata": {},
   "outputs": [],
   "source": [
    "def anova(number_of_groups, alpha_level):\n",
    "    num_of_comparisons = number_of_groups * (number_of_groups - 1) / 2\n",
    "    bonferroni_correction = alpha_level / num_of_comparisons\n",
    "    print(\"comp number\", num_of_comparisons)\n",
    "    print(\"b_correction\", bonferroni_correction)\n",
    "    return {\"comp_n\": num_of_comparisons, \"b_correction\": bonferroni_correction}"
   ]
  },
  {
   "cell_type": "code",
   "execution_count": 84,
   "id": "d36b01b1",
   "metadata": {},
   "outputs": [],
   "source": [
    "def confi_level_for_multiple(alpha, num_of_groups):\n",
    "    num_of_comparisons = num_of_groups * (num_of_groups - 1) / 2\n",
    "    conf_level =  (1 - alpha / num_of_comparisons)\n",
    "    print(\"conf level\", conf_level)\n",
    "    return conf_level\n",
    "    "
   ]
  },
  {
   "cell_type": "code",
   "execution_count": 85,
   "id": "c9de65be",
   "metadata": {},
   "outputs": [],
   "source": [
    "def linear_regression(k, b, x):\n",
    "    return k * x + b"
   ]
  },
  {
   "cell_type": "code",
   "execution_count": 86,
   "id": "b22c7d0b",
   "metadata": {},
   "outputs": [],
   "source": [
    "def two_sample_t_test(mean1, std1, sample_size1, mean2, std2, sample_size2, equal_size = False, alternative='two-sided'):\n",
    "    res = ttest_ind_from_stats(mean1, std1, sample_size1, mean2, std2, sample_size2, equal_size, alternative)\n",
    "    print(\"two sample t test result\", res)\n",
    "    return res"
   ]
  }
 ],
 "metadata": {
  "kernelspec": {
   "display_name": "Python 3 (ipykernel)",
   "language": "python",
   "name": "python3"
  },
  "language_info": {
   "codemirror_mode": {
    "name": "ipython",
    "version": 3
   },
   "file_extension": ".py",
   "mimetype": "text/x-python",
   "name": "python",
   "nbconvert_exporter": "python",
   "pygments_lexer": "ipython3",
   "version": "3.10.2"
  },
  "vscode": {
   "interpreter": {
    "hash": "6c32e1a11f4c0490975a6bec180784250a9eb71451e4fe5d3619f3cb6a90cba9"
   }
  }
 },
 "nbformat": 4,
 "nbformat_minor": 5
}
