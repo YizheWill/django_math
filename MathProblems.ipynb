{
 "cells": [
  {
   "cell_type": "code",
   "execution_count": 42,
   "id": "c8677295",
   "metadata": {},
   "outputs": [],
   "source": [
    "import scipy\n",
    "from scipy.stats import norm, binom, iqr\n",
    "import numpy as np\n",
    "from numpy.random import seed\n",
    "from numpy.random import normal\n",
    "import matplotlib.pyplot as plt"
   ]
  },
  {
   "cell_type": "code",
   "execution_count": 12,
   "id": "0c5c5915",
   "metadata": {},
   "outputs": [],
   "source": [
    "def to_percentage(n):\n",
    "    return str(n * 100) + \"%\""
   ]
  },
  {
   "cell_type": "code",
   "execution_count": 13,
   "id": "54c26572",
   "metadata": {},
   "outputs": [],
   "source": [
    "def percentage_until_z_score(z_score):\n",
    "    res = norm.cdf(z_score)\n",
    "    print(to_percentage(res))\n",
    "    return res"
   ]
  },
  {
   "cell_type": "code",
   "execution_count": 14,
   "id": "9fa60ddb",
   "metadata": {},
   "outputs": [],
   "source": [
    "def percentage_after_z_score(z_score):\n",
    "    res = norm.cdf(-z_score)\n",
    "    print(to_percentage(res))\n",
    "    return res\n",
    "\n",
    "def percentage_between_z_score(z1, z2):\n",
    "    res = percentage_until_z_score(z2) - percentage_until_z_score(z1)\n",
    "    print(res)\n",
    "    return res"
   ]
  },
  {
   "cell_type": "code",
   "execution_count": 15,
   "id": "cfb015c9",
   "metadata": {},
   "outputs": [],
   "source": [
    "def percentage_two_tail(z_score):\n",
    "    res = norm.cdf(1-((1 - z_score) / 2))\n",
    "    print(to_percentage(res))\n",
    "    return to_percentage(res)\n",
    "def two_tail_zscore(percentage):\n",
    "    res = norm.ppf(1 - (1 - percentage) / 2)\n",
    "    print(res)\n",
    "    return res"
   ]
  },
  {
   "cell_type": "code",
   "execution_count": 16,
   "id": "f62301a0",
   "metadata": {},
   "outputs": [],
   "source": [
    "def calc_zscore(val, mean, std_d):\n",
    "    res = (val - mean) / std_d\n",
    "    print(res)\n",
    "    return res"
   ]
  },
  {
   "cell_type": "code",
   "execution_count": 17,
   "id": "40151bd6",
   "metadata": {},
   "outputs": [],
   "source": [
    "def p_less_than(val, mean, std_d):\n",
    "    res = norm(mean, std_d).cdf(val)\n",
    "    print(to_percentage(res))\n",
    "    return res"
   ]
  },
  {
   "cell_type": "code",
   "execution_count": 18,
   "id": "fcb6e85a",
   "metadata": {},
   "outputs": [],
   "source": [
    "def p_more_than(val, mean, std_d):\n",
    "    res = (1 - norm(mean, std_d).cdf(val))\n",
    "    print(to_percentage(res))\n",
    "    return res"
   ]
  },
  {
   "cell_type": "code",
   "execution_count": 19,
   "id": "f267f02e",
   "metadata": {},
   "outputs": [],
   "source": [
    "def p_between(val1, val2, mean, std_d):\n",
    "    if val1 <= val2:\n",
    "        return p_less_than(val2, mean, std_d) - p_less_than(val1, mean, std_d)\n",
    "    else:\n",
    "        return p_less_than(val1, mean, std_d) - p_less_than(val2, mean, std_d)"
   ]
  },
  {
   "cell_type": "code",
   "execution_count": 20,
   "id": "ed429619",
   "metadata": {},
   "outputs": [],
   "source": [
    "def p_to_zscore(percentage):\n",
    "    res = norm.ppf(percentage)\n",
    "    print(res)\n",
    "    return res\n",
    "\n",
    "def p_to_val(percentage, mean, std_d):\n",
    "    std_diff = p_to_zscore(percentage)\n",
    "    res = mean + std_diff * std_d\n",
    "    print(res)\n",
    "    return res"
   ]
  },
  {
   "cell_type": "code",
   "execution_count": 21,
   "id": "6b48ac8f",
   "metadata": {},
   "outputs": [],
   "source": [
    "def binomial_exact_p(sample_size, p, expected_val):\n",
    "    res = binom.pmf(expected_val, sample_size, p)\n",
    "    print(res)\n",
    "    return res"
   ]
  },
  {
   "cell_type": "code",
   "execution_count": 22,
   "id": "2d296328",
   "metadata": {},
   "outputs": [],
   "source": [
    "def binomial_less_or_equal_to_p(sample_size, p, val):\n",
    "    res = binom.cdf(val, sample_size, p)\n",
    "    print(res)\n",
    "    return res\n",
    "def binomial_less_than_p(sample_size, p, val):\n",
    "    res = binom.cdf(val - 1, sample_size, p)\n",
    "    print(res)\n",
    "    return res"
   ]
  },
  {
   "cell_type": "code",
   "execution_count": 23,
   "id": "6855ca29",
   "metadata": {},
   "outputs": [],
   "source": [
    "def binomial_more_or_equal_to_p(sample_size, p, val):\n",
    "    res = 1 - binom.cdf(val - 1, sample_size, p)\n",
    "    print(res)\n",
    "    return res\n",
    "\n",
    "def binomial_more_than_p(sample_size, p, val):\n",
    "    res = 1 - binom.cdf(val, sample_size, p)\n",
    "    print(res)\n",
    "    return res"
   ]
  },
  {
   "cell_type": "code",
   "execution_count": 24,
   "id": "ce5f312f",
   "metadata": {},
   "outputs": [],
   "source": [
    "def binomial_between_p(p1, p2, sample_size, p):\n",
    "    res = binomial_less_or_equal_to_p(sample_size, p, p2) - binomial_less_or_equal_to_p(sample_size, p, p1 - 1)\n",
    "    print(res)\n",
    "    return res"
   ]
  },
  {
   "cell_type": "code",
   "execution_count": 25,
   "id": "75417be3",
   "metadata": {},
   "outputs": [],
   "source": [
    "def std_of_binom(sample_size, p):\n",
    "    res = np.sqrt(sample_size * p * (1 - p))\n",
    "    print(res)\n",
    "    return res"
   ]
  },
  {
   "cell_type": "code",
   "execution_count": 26,
   "id": "ceb12804",
   "metadata": {},
   "outputs": [],
   "source": [
    "def se(p, sample_size):\n",
    "    res = np.sqrt((p * (1 - p) / sample_size))\n",
    "    print(res)\n",
    "    return res"
   ]
  },
  {
   "cell_type": "code",
   "execution_count": 27,
   "id": "ba1695b2",
   "metadata": {},
   "outputs": [],
   "source": [
    "def clt_more_than(p, sample_size, val):\n",
    "    stde = se(p, sample_size)\n",
    "    res = p_more_than(val, p, stde)\n",
    "    print(res)\n",
    "    return res"
   ]
  },
  {
   "cell_type": "code",
   "execution_count": 28,
   "id": "1a48f496",
   "metadata": {},
   "outputs": [],
   "source": [
    "def clt_p_to_z(p, sample_size, val):\n",
    "    stde = se(p, sample_size)\n",
    "    res = calc_zscore(val, p, stde)\n",
    "    print(res)\n",
    "    return res"
   ]
  },
  {
   "cell_type": "code",
   "execution_count": 93,
   "id": "b20bd252",
   "metadata": {},
   "outputs": [],
   "source": [
    "def confidence_interval(p, sample_size, conf_level_pct):\n",
    "    std_e = se(p, sample_size)\n",
    "    z = two_tail_zscore(conf_level_pct)\n",
    "    margin_e = std_e * z\n",
    "    print(\"margin error\", margin_e)\n",
    "    print(p - z * std_e, p + z * std_e)\n",
    "    return (p - z * std_e, p + z * std_e)\n",
    "\n",
    "def margin_of_err(z, se):\n",
    "    return z * se"
   ]
  },
  {
   "cell_type": "code",
   "execution_count": 94,
   "id": "a55d724c",
   "metadata": {},
   "outputs": [],
   "source": [
    "def conf_interval_in_populations(p1, p2, size_1, size_2, conf_level_pct):\n",
    "    se_est = np.sqrt(p1 * (1 - p1) / size_1 + p2 * (1 - p2) /size_2)\n",
    "    statistic = p1 - p2\n",
    "    z = two_tail_zscore(conf_level_pct)\n",
    "    res = (statistic - z * se_est, statistic + z * se_est)\n",
    "    print(res)\n",
    "    return res"
   ]
  },
  {
   "cell_type": "code",
   "execution_count": 95,
   "id": "3c257d20",
   "metadata": {},
   "outputs": [
    {
     "data": {
      "text/plain": [
       "519.25"
      ]
     },
     "execution_count": 95,
     "metadata": {},
     "output_type": "execute_result"
    }
   ],
   "source": [
    "0.67*775"
   ]
  },
  {
   "cell_type": "code",
   "execution_count": 96,
   "id": "96816b35",
   "metadata": {},
   "outputs": [
    {
     "data": {
      "text/plain": [
       "0.4666666666666667"
      ]
     },
     "execution_count": 96,
     "metadata": {},
     "output_type": "execute_result"
    }
   ],
   "source": [
    "7/15"
   ]
  },
  {
   "cell_type": "code",
   "execution_count": 97,
   "id": "1ecf469a",
   "metadata": {},
   "outputs": [
    {
     "data": {
      "text/plain": [
       "1.6959999999999997"
      ]
     },
     "execution_count": 97,
     "metadata": {},
     "output_type": "execute_result"
    }
   ],
   "source": [
    "(1.57+1.65+1.73+1.75+1.78)/5"
   ]
  },
  {
   "cell_type": "code",
   "execution_count": 98,
   "id": "6092eeaf",
   "metadata": {},
   "outputs": [
    {
     "data": {
      "text/plain": [
       "1.4333333333333331"
      ]
     },
     "execution_count": 98,
     "metadata": {},
     "output_type": "execute_result"
    }
   ],
   "source": [
    "(1+1.2+1.2+1.3+1.4+1.5+1.5+1.7+2.1)/9"
   ]
  },
  {
   "cell_type": "code",
   "execution_count": 99,
   "id": "e4db52a0",
   "metadata": {},
   "outputs": [
    {
     "data": {
      "text/plain": [
       "23.25"
      ]
     },
     "execution_count": 99,
     "metadata": {},
     "output_type": "execute_result"
    }
   ],
   "source": [
    "29.6 - 6.35"
   ]
  },
  {
   "cell_type": "code",
   "execution_count": 100,
   "id": "778aef8a",
   "metadata": {},
   "outputs": [
    {
     "data": {
      "text/plain": [
       "35.95"
      ]
     },
     "execution_count": 100,
     "metadata": {},
     "output_type": "execute_result"
    }
   ],
   "source": [
    "29.6 + 6.35"
   ]
  },
  {
   "cell_type": "code",
   "execution_count": 101,
   "id": "516238af",
   "metadata": {},
   "outputs": [
    {
     "data": {
      "text/plain": [
       "(49, 77)"
      ]
     },
     "execution_count": 101,
     "metadata": {},
     "output_type": "execute_result"
    }
   ],
   "source": [
    "(63 - 2 * 7, 63 + 2 * 7)"
   ]
  },
  {
   "cell_type": "code",
   "execution_count": 102,
   "id": "09b18773",
   "metadata": {},
   "outputs": [
    {
     "data": {
      "text/plain": [
       "1.795275590551181"
      ]
     },
     "execution_count": 102,
     "metadata": {},
     "output_type": "execute_result"
    }
   ],
   "source": [
    "(41-29.6)/6.35"
   ]
  },
  {
   "cell_type": "code",
   "execution_count": 103,
   "id": "3a66fdeb",
   "metadata": {},
   "outputs": [
    {
     "name": "stdout",
     "output_type": "stream",
     "text": [
      "-2.413793103448276\n"
     ]
    },
    {
     "data": {
      "text/plain": [
       "-2.413793103448276"
      ]
     },
     "execution_count": 103,
     "metadata": {},
     "output_type": "execute_result"
    }
   ],
   "source": [
    "calc_zscore(9, 16, 2.9)"
   ]
  },
  {
   "cell_type": "code",
   "execution_count": 104,
   "id": "1245d2af",
   "metadata": {},
   "outputs": [
    {
     "data": {
      "text/plain": [
       "7.35"
      ]
     },
     "execution_count": 104,
     "metadata": {},
     "output_type": "execute_result"
    }
   ],
   "source": [
    "\n",
    "-1.3*0.5+8"
   ]
  },
  {
   "cell_type": "code",
   "execution_count": 105,
   "id": "4a543494",
   "metadata": {},
   "outputs": [
    {
     "data": {
      "text/plain": [
       "208.0"
      ]
     },
     "execution_count": 105,
     "metadata": {},
     "output_type": "execute_result"
    }
   ],
   "source": [
    "np.median([96, 52, 208, 120, 271, 239, 239])"
   ]
  },
  {
   "cell_type": "code",
   "execution_count": 106,
   "id": "b26faeac",
   "metadata": {},
   "outputs": [
    {
     "data": {
      "text/plain": [
       "6.0"
      ]
     },
     "execution_count": 106,
     "metadata": {},
     "output_type": "execute_result"
    }
   ],
   "source": [
    "iqr([1,3,5,8,9,12,1,3,5,8,9,12])"
   ]
  },
  {
   "cell_type": "code",
   "execution_count": 107,
   "id": "935a04c7",
   "metadata": {},
   "outputs": [
    {
     "data": {
      "text/plain": [
       "336.25"
      ]
     },
     "execution_count": 107,
     "metadata": {},
     "output_type": "execute_result"
    }
   ],
   "source": [
    "-631.25+11.25*86"
   ]
  },
  {
   "cell_type": "code",
   "execution_count": 108,
   "id": "4e36a44a",
   "metadata": {},
   "outputs": [
    {
     "data": {
      "text/plain": [
       "0.13846153846153847"
      ]
     },
     "execution_count": 108,
     "metadata": {},
     "output_type": "execute_result"
    }
   ],
   "source": [
    "45/325"
   ]
  },
  {
   "cell_type": "code",
   "execution_count": 109,
   "id": "e0abebce",
   "metadata": {},
   "outputs": [
    {
     "data": {
      "text/plain": [
       "0.35"
      ]
     },
     "execution_count": 109,
     "metadata": {},
     "output_type": "execute_result"
    }
   ],
   "source": [
    "21/(39+21)"
   ]
  },
  {
   "cell_type": "code",
   "execution_count": 110,
   "id": "dbb2ae0b",
   "metadata": {},
   "outputs": [
    {
     "data": {
      "text/plain": [
       "114200"
      ]
     },
     "execution_count": 110,
     "metadata": {},
     "output_type": "execute_result"
    }
   ],
   "source": [
    "95000+1280*15"
   ]
  },
  {
   "cell_type": "code",
   "execution_count": 111,
   "id": "8541ea26",
   "metadata": {},
   "outputs": [
    {
     "data": {
      "text/plain": [
       "0.15384615384615385"
      ]
     },
     "execution_count": 111,
     "metadata": {},
     "output_type": "execute_result"
    }
   ],
   "source": [
    "8/52"
   ]
  },
  {
   "cell_type": "code",
   "execution_count": 112,
   "id": "9e48d4a7",
   "metadata": {},
   "outputs": [
    {
     "data": {
      "text/plain": [
       "13.0"
      ]
     },
     "execution_count": 112,
     "metadata": {},
     "output_type": "execute_result"
    }
   ],
   "source": [
    "52/4"
   ]
  },
  {
   "cell_type": "code",
   "execution_count": 113,
   "id": "cae69eb3",
   "metadata": {},
   "outputs": [
    {
     "data": {
      "text/plain": [
       "0.53125"
      ]
     },
     "execution_count": 113,
     "metadata": {},
     "output_type": "execute_result"
    }
   ],
   "source": [
    "17/32"
   ]
  },
  {
   "cell_type": "code",
   "execution_count": 114,
   "id": "02dd8311",
   "metadata": {},
   "outputs": [
    {
     "data": {
      "text/plain": [
       "0.16346153846153846"
      ]
     },
     "execution_count": 114,
     "metadata": {},
     "output_type": "execute_result"
    }
   ],
   "source": [
    "17/104"
   ]
  },
  {
   "cell_type": "code",
   "execution_count": 115,
   "id": "bd2b2294",
   "metadata": {},
   "outputs": [
    {
     "data": {
      "text/plain": [
       "0.6806569343065694"
      ]
     },
     "execution_count": 115,
     "metadata": {},
     "output_type": "execute_result"
    }
   ],
   "source": [
    "373/548"
   ]
  },
  {
   "cell_type": "code",
   "execution_count": 116,
   "id": "8c4e9f87",
   "metadata": {},
   "outputs": [
    {
     "data": {
      "text/plain": [
       "0.48026315789473684"
      ]
     },
     "execution_count": 116,
     "metadata": {},
     "output_type": "execute_result"
    }
   ],
   "source": [
    "73/152"
   ]
  },
  {
   "cell_type": "code",
   "execution_count": 117,
   "id": "817b4d0f",
   "metadata": {},
   "outputs": [
    {
     "data": {
      "text/plain": [
       "0.09112500000000001"
      ]
     },
     "execution_count": 117,
     "metadata": {},
     "output_type": "execute_result"
    }
   ],
   "source": [
    "pow(0.45,3)"
   ]
  },
  {
   "cell_type": "code",
   "execution_count": 118,
   "id": "1f466b52",
   "metadata": {},
   "outputs": [
    {
     "data": {
      "text/plain": [
       "0.09112500000000001"
      ]
     },
     "execution_count": 118,
     "metadata": {},
     "output_type": "execute_result"
    }
   ],
   "source": [
    "0.45*0.45*0.45"
   ]
  },
  {
   "cell_type": "code",
   "execution_count": 119,
   "id": "66df9087",
   "metadata": {},
   "outputs": [
    {
     "data": {
      "text/plain": [
       "0.28749600000000003"
      ]
     },
     "execution_count": 119,
     "metadata": {},
     "output_type": "execute_result"
    }
   ],
   "source": [
    "pow(0.66, 3)"
   ]
  },
  {
   "cell_type": "code",
   "execution_count": 120,
   "id": "cad91e4f",
   "metadata": {},
   "outputs": [
    {
     "data": {
      "text/plain": [
       "0.25411680999999997"
      ]
     },
     "execution_count": 120,
     "metadata": {},
     "output_type": "execute_result"
    }
   ],
   "source": [
    "pow(0.71, 4)"
   ]
  },
  {
   "cell_type": "code",
   "execution_count": 121,
   "id": "38adb835",
   "metadata": {},
   "outputs": [
    {
     "data": {
      "text/plain": [
       "0.9921875"
      ]
     },
     "execution_count": 121,
     "metadata": {},
     "output_type": "execute_result"
    }
   ],
   "source": [
    "1 - (pow(0.5, 7))"
   ]
  },
  {
   "cell_type": "code",
   "execution_count": 122,
   "id": "2efa700d",
   "metadata": {},
   "outputs": [
    {
     "data": {
      "text/plain": [
       "0.2304"
      ]
     },
     "execution_count": 122,
     "metadata": {},
     "output_type": "execute_result"
    }
   ],
   "source": [
    "pow(0.48,2)"
   ]
  },
  {
   "cell_type": "code",
   "execution_count": 123,
   "id": "318a2f9a",
   "metadata": {},
   "outputs": [
    {
     "data": {
      "text/plain": [
       "0.5"
      ]
     },
     "execution_count": 123,
     "metadata": {},
     "output_type": "execute_result"
    }
   ],
   "source": [
    "4*0.125"
   ]
  },
  {
   "cell_type": "code",
   "execution_count": 124,
   "id": "d1fc075c",
   "metadata": {},
   "outputs": [
    {
     "name": "stdout",
     "output_type": "stream",
     "text": [
      "87.0761887759982%\n"
     ]
    },
    {
     "data": {
      "text/plain": [
       "0.8707618877599821"
      ]
     },
     "execution_count": 124,
     "metadata": {},
     "output_type": "execute_result"
    }
   ],
   "source": [
    "percentage_until_z_score(1.13)"
   ]
  },
  {
   "cell_type": "code",
   "execution_count": 125,
   "id": "9d7cd362",
   "metadata": {},
   "outputs": [
    {
     "name": "stdout",
     "output_type": "stream",
     "text": [
      "96.56204975541101%\n"
     ]
    },
    {
     "data": {
      "text/plain": [
       "0.9656204975541101"
      ]
     },
     "execution_count": 125,
     "metadata": {},
     "output_type": "execute_result"
    }
   ],
   "source": [
    "percentage_after_z_score(-1.82)"
   ]
  },
  {
   "cell_type": "code",
   "execution_count": 126,
   "id": "0b9efca6",
   "metadata": {},
   "outputs": [
    {
     "name": "stdout",
     "output_type": "stream",
     "text": [
      "91.9243340766229%\n",
      "78.81446014166033%\n",
      "0.13109873934962557\n"
     ]
    },
    {
     "data": {
      "text/plain": [
       "0.13109873934962557"
      ]
     },
     "execution_count": 126,
     "metadata": {},
     "output_type": "execute_result"
    }
   ],
   "source": [
    "percentage_between_z_score(0.8,1.4)"
   ]
  },
  {
   "cell_type": "code",
   "execution_count": 127,
   "id": "c7bda697",
   "metadata": {},
   "outputs": [
    {
     "name": "stdout",
     "output_type": "stream",
     "text": [
      "1.072411002167581%\n"
     ]
    },
    {
     "data": {
      "text/plain": [
       "0.010724110021675809"
      ]
     },
     "execution_count": 127,
     "metadata": {},
     "output_type": "execute_result"
    }
   ],
   "source": [
    "p_less_than(312, 450, 60)"
   ]
  },
  {
   "cell_type": "code",
   "execution_count": 128,
   "id": "19890fd4",
   "metadata": {},
   "outputs": [
    {
     "name": "stdout",
     "output_type": "stream",
     "text": [
      "98.92758899783242%\n"
     ]
    },
    {
     "data": {
      "text/plain": [
       "0.9892758899783242"
      ]
     },
     "execution_count": 128,
     "metadata": {},
     "output_type": "execute_result"
    }
   ],
   "source": [
    "p_more_than(368, 460, 40)"
   ]
  },
  {
   "cell_type": "code",
   "execution_count": 129,
   "id": "2c30275c",
   "metadata": {},
   "outputs": [
    {
     "name": "stdout",
     "output_type": "stream",
     "text": [
      "13.566606094638246%\n"
     ]
    },
    {
     "data": {
      "text/plain": [
       "0.13566606094638245"
      ]
     },
     "execution_count": 129,
     "metadata": {},
     "output_type": "execute_result"
    }
   ],
   "source": [
    "p_more_than(23.1, 22, 1)"
   ]
  },
  {
   "cell_type": "code",
   "execution_count": 130,
   "id": "d55f089c",
   "metadata": {},
   "outputs": [
    {
     "name": "stdout",
     "output_type": "stream",
     "text": [
      "69.14624612740131%\n",
      "0.6209665325776133%\n"
     ]
    },
    {
     "data": {
      "text/plain": [
       "0.685252795948237"
      ]
     },
     "execution_count": 130,
     "metadata": {},
     "output_type": "execute_result"
    }
   ],
   "source": [
    "p_between(19.5, 22.5, 22, 1)"
   ]
  },
  {
   "cell_type": "code",
   "execution_count": 131,
   "id": "039a736a",
   "metadata": {},
   "outputs": [
    {
     "name": "stdout",
     "output_type": "stream",
     "text": [
      "4.005915686381711%\n"
     ]
    },
    {
     "data": {
      "text/plain": [
       "0.040059156863817114"
      ]
     },
     "execution_count": 131,
     "metadata": {},
     "output_type": "execute_result"
    }
   ],
   "source": [
    "p_more_than(23.75, 22, 1)"
   ]
  },
  {
   "cell_type": "code",
   "execution_count": 132,
   "id": "4ce4378a",
   "metadata": {},
   "outputs": [
    {
     "name": "stdout",
     "output_type": "stream",
     "text": [
      "1.75\n"
     ]
    },
    {
     "data": {
      "text/plain": [
       "1.75"
      ]
     },
     "execution_count": 132,
     "metadata": {},
     "output_type": "execute_result"
    }
   ],
   "source": [
    "calc_zscore(23.75, 22, 1)"
   ]
  },
  {
   "cell_type": "code",
   "execution_count": 133,
   "id": "6a57e20c",
   "metadata": {},
   "outputs": [
    {
     "data": {
      "text/plain": [
       "95.38"
      ]
     },
     "execution_count": 133,
     "metadata": {},
     "output_type": "execute_result"
    }
   ],
   "source": [
    "58 + 21 * 1.78"
   ]
  },
  {
   "cell_type": "code",
   "execution_count": 134,
   "id": "7a37c767",
   "metadata": {},
   "outputs": [
    {
     "name": "stdout",
     "output_type": "stream",
     "text": [
      "0.21300723300520683\n"
     ]
    },
    {
     "data": {
      "text/plain": [
       "0.21300723300520683"
      ]
     },
     "execution_count": 134,
     "metadata": {},
     "output_type": "execute_result"
    }
   ],
   "source": [
    "binomial_exact_p(15, 0.68, 10)"
   ]
  },
  {
   "cell_type": "code",
   "execution_count": 135,
   "id": "8136291d",
   "metadata": {},
   "outputs": [
    {
     "name": "stdout",
     "output_type": "stream",
     "text": [
      "0.376953125\n"
     ]
    },
    {
     "data": {
      "text/plain": [
       "0.376953125"
      ]
     },
     "execution_count": 135,
     "metadata": {},
     "output_type": "execute_result"
    }
   ],
   "source": [
    "binomial_more_or_equal_to_p(10, 0.5, 6)"
   ]
  },
  {
   "cell_type": "code",
   "execution_count": 136,
   "id": "8a32db86",
   "metadata": {},
   "outputs": [
    {
     "name": "stdout",
     "output_type": "stream",
     "text": [
      "0.784\n"
     ]
    },
    {
     "data": {
      "text/plain": [
       "0.784"
      ]
     },
     "execution_count": 136,
     "metadata": {},
     "output_type": "execute_result"
    }
   ],
   "source": [
    "binomial_more_or_equal_to_p(3, 0.4, 1)"
   ]
  },
  {
   "cell_type": "code",
   "execution_count": 137,
   "id": "cde293d3",
   "metadata": {},
   "outputs": [
    {
     "name": "stdout",
     "output_type": "stream",
     "text": [
      "0.11718749999999999\n"
     ]
    },
    {
     "data": {
      "text/plain": [
       "0.11718749999999999"
      ]
     },
     "execution_count": 137,
     "metadata": {},
     "output_type": "execute_result"
    }
   ],
   "source": [
    "binomial_exact_p(10, 0.5, 7)"
   ]
  },
  {
   "cell_type": "code",
   "execution_count": 138,
   "id": "5a93c1e1",
   "metadata": {},
   "outputs": [
    {
     "name": "stdout",
     "output_type": "stream",
     "text": [
      "0.15811388300841897\n"
     ]
    },
    {
     "data": {
      "text/plain": [
       "0.15811388300841897"
      ]
     },
     "execution_count": 138,
     "metadata": {},
     "output_type": "execute_result"
    }
   ],
   "source": [
    "se(0.5, 10)"
   ]
  },
  {
   "cell_type": "code",
   "execution_count": 139,
   "id": "e82f4c30",
   "metadata": {},
   "outputs": [
    {
     "name": "stdout",
     "output_type": "stream",
     "text": [
      "1.3693063937629153\n"
     ]
    },
    {
     "data": {
      "text/plain": [
       "1.3693063937629153"
      ]
     },
     "execution_count": 139,
     "metadata": {},
     "output_type": "execute_result"
    }
   ],
   "source": [
    "std_of_binom(10, 0.25)"
   ]
  },
  {
   "cell_type": "code",
   "execution_count": 140,
   "id": "f5cb7598",
   "metadata": {},
   "outputs": [
    {
     "data": {
      "text/plain": [
       "28.0"
      ]
     },
     "execution_count": 140,
     "metadata": {},
     "output_type": "execute_result"
    }
   ],
   "source": [
    "0.2 * 140"
   ]
  },
  {
   "cell_type": "code",
   "execution_count": 141,
   "id": "babe48cd",
   "metadata": {},
   "outputs": [
    {
     "name": "stdout",
     "output_type": "stream",
     "text": [
      "0.01346600658448277\n"
     ]
    },
    {
     "data": {
      "text/plain": [
       "0.01346600658448277"
      ]
     },
     "execution_count": 141,
     "metadata": {},
     "output_type": "execute_result"
    }
   ],
   "source": [
    "se(0.32,1200)"
   ]
  },
  {
   "cell_type": "code",
   "execution_count": 142,
   "id": "fe373e06",
   "metadata": {},
   "outputs": [
    {
     "data": {
      "text/plain": [
       "40.0"
      ]
     },
     "execution_count": 142,
     "metadata": {},
     "output_type": "execute_result"
    }
   ],
   "source": [
    "0.08*500"
   ]
  },
  {
   "cell_type": "code",
   "execution_count": 143,
   "id": "1788597d",
   "metadata": {},
   "outputs": [
    {
     "name": "stdout",
     "output_type": "stream",
     "text": [
      "0.01213260071048248\n"
     ]
    },
    {
     "data": {
      "text/plain": [
       "6.06630035524124"
      ]
     },
     "execution_count": 143,
     "metadata": {},
     "output_type": "execute_result"
    }
   ],
   "source": [
    "500*se(0.08, 500)"
   ]
  },
  {
   "cell_type": "code",
   "execution_count": 144,
   "id": "287a712f",
   "metadata": {},
   "outputs": [],
   "source": [
    "std = np.sqrt(0.08*0.92*500)"
   ]
  },
  {
   "cell_type": "code",
   "execution_count": 145,
   "id": "0a9ee35a",
   "metadata": {},
   "outputs": [
    {
     "data": {
      "text/plain": [
       "6.06630035524124"
      ]
     },
     "execution_count": 145,
     "metadata": {},
     "output_type": "execute_result"
    }
   ],
   "source": [
    "std"
   ]
  },
  {
   "cell_type": "code",
   "execution_count": 146,
   "id": "f7538182",
   "metadata": {},
   "outputs": [
    {
     "data": {
      "text/plain": [
       "14.000000000000002"
      ]
     },
     "execution_count": 146,
     "metadata": {},
     "output_type": "execute_result"
    }
   ],
   "source": [
    "50*0.28"
   ]
  },
  {
   "cell_type": "code",
   "execution_count": 147,
   "id": "ed8c169c",
   "metadata": {},
   "outputs": [
    {
     "data": {
      "text/plain": [
       "3.5"
      ]
     },
     "execution_count": 147,
     "metadata": {},
     "output_type": "execute_result"
    }
   ],
   "source": [
    "500*0.007"
   ]
  },
  {
   "cell_type": "code",
   "execution_count": 148,
   "id": "6995a50c",
   "metadata": {},
   "outputs": [
    {
     "name": "stdout",
     "output_type": "stream",
     "text": [
      "0.003728538587704303\n"
     ]
    },
    {
     "data": {
      "text/plain": [
       "0.003728538587704303"
      ]
     },
     "execution_count": 148,
     "metadata": {},
     "output_type": "execute_result"
    }
   ],
   "source": [
    "se(0.007, 500)"
   ]
  },
  {
   "cell_type": "code",
   "execution_count": 149,
   "id": "132671dd",
   "metadata": {},
   "outputs": [
    {
     "name": "stdout",
     "output_type": "stream",
     "text": [
      "0.010610529361598004\n",
      "7.872646104666048%\n",
      "0.07872646104666048\n"
     ]
    },
    {
     "data": {
      "text/plain": [
       "0.07872646104666048"
      ]
     },
     "execution_count": 149,
     "metadata": {},
     "output_type": "execute_result"
    }
   ],
   "source": [
    "clt_more_than(0.035, 300, 0.05)"
   ]
  },
  {
   "cell_type": "code",
   "execution_count": 150,
   "id": "6c84d116",
   "metadata": {},
   "outputs": [
    {
     "name": "stdout",
     "output_type": "stream",
     "text": [
      "0.005427494756376371\n",
      "1.959963984540054\n",
      "margin error 0.010637694248777682\n",
      "0.040362305751222315 0.06163769424877768\n"
     ]
    },
    {
     "data": {
      "text/plain": [
       "(0.040362305751222315, 0.06163769424877768)"
      ]
     },
     "execution_count": 150,
     "metadata": {},
     "output_type": "execute_result"
    }
   ],
   "source": [
    "confidence_interval(0.051, 1643, 0.95)"
   ]
  },
  {
   "cell_type": "code",
   "execution_count": 151,
   "id": "8e53043f",
   "metadata": {},
   "outputs": [
    {
     "name": "stdout",
     "output_type": "stream",
     "text": [
      "0.011240449674940887\n",
      "1.959963984540054\n",
      "margin error 0.022030876532919096\n",
      "0.2279691234670809 0.2720308765329191\n"
     ]
    },
    {
     "data": {
      "text/plain": [
       "(0.2279691234670809, 0.2720308765329191)"
      ]
     },
     "execution_count": 151,
     "metadata": {},
     "output_type": "execute_result"
    }
   ],
   "source": [
    "confidence_interval(0.25, 1484, 0.95)"
   ]
  },
  {
   "cell_type": "code",
   "execution_count": 152,
   "id": "a7fb1713",
   "metadata": {},
   "outputs": [
    {
     "name": "stdout",
     "output_type": "stream",
     "text": [
      "0.01346600658448277\n",
      "1.959963984540054\n",
      "margin error 0.026392887921165453\n",
      "0.29360711207883455 0.34639288792116546\n"
     ]
    },
    {
     "data": {
      "text/plain": [
       "(0.29360711207883455, 0.34639288792116546)"
      ]
     },
     "execution_count": 152,
     "metadata": {},
     "output_type": "execute_result"
    }
   ],
   "source": [
    "confidence_interval(0.32, 1200, 0.95)"
   ]
  },
  {
   "cell_type": "code",
   "execution_count": 153,
   "id": "c0a3c56f",
   "metadata": {},
   "outputs": [
    {
     "name": "stdout",
     "output_type": "stream",
     "text": [
      "1.6448536269514722\n",
      "(-0.10787008656226058, 0.17026745930446088)\n"
     ]
    },
    {
     "data": {
      "text/plain": [
       "(-0.10787008656226058, 0.17026745930446088)"
      ]
     },
     "execution_count": 153,
     "metadata": {},
     "output_type": "execute_result"
    }
   ],
   "source": [
    "conf_interval_in_populations(10/42, 12/58, 42, 58, 0.9)"
   ]
  },
  {
   "cell_type": "code",
   "execution_count": 155,
   "id": "c2d62487",
   "metadata": {},
   "outputs": [
    {
     "name": "stdout",
     "output_type": "stream",
     "text": [
      "1.959963984540054\n",
      "(-0.174532257196785, 0.1667697001191596)\n"
     ]
    },
    {
     "data": {
      "text/plain": [
       "(-0.174532257196785, 0.1667697001191596)"
      ]
     },
     "execution_count": 155,
     "metadata": {},
     "output_type": "execute_result"
    }
   ],
   "source": [
    "conf_interval_in_populations(31/60, 38/73, 60, 73, 0.95)"
   ]
  },
  {
   "cell_type": "code",
   "execution_count": 156,
   "id": "c6a193bd",
   "metadata": {},
   "outputs": [
    {
     "data": {
      "text/plain": [
       "0.049145299145299144"
      ]
     },
     "execution_count": 156,
     "metadata": {},
     "output_type": "execute_result"
    }
   ],
   "source": [
    "0.05*(115/117)"
   ]
  },
  {
   "cell_type": "code",
   "execution_count": null,
   "id": "a2ac9644",
   "metadata": {},
   "outputs": [],
   "source": []
  },
  {
   "cell_type": "code",
   "execution_count": null,
   "id": "6d6be0ac",
   "metadata": {},
   "outputs": [],
   "source": []
  },
  {
   "cell_type": "code",
   "execution_count": null,
   "id": "cae2f52f",
   "metadata": {},
   "outputs": [],
   "source": []
  }
 ],
 "metadata": {
  "kernelspec": {
   "display_name": ".venv",
   "language": "python",
   "name": "python3"
  },
  "language_info": {
   "codemirror_mode": {
    "name": "ipython",
    "version": 3
   },
   "file_extension": ".py",
   "mimetype": "text/x-python",
   "name": "python",
   "nbconvert_exporter": "python",
   "pygments_lexer": "ipython3",
   "version": "3.10.2 (main, Dec 21 2022, 22:18:09) [Clang 14.0.0 (clang-1400.0.29.202)]"
  },
  "vscode": {
   "interpreter": {
    "hash": "6c32e1a11f4c0490975a6bec180784250a9eb71451e4fe5d3619f3cb6a90cba9"
   }
  }
 },
 "nbformat": 4,
 "nbformat_minor": 5
}
