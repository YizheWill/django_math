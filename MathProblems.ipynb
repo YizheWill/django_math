{
 "cells": [
  {
   "cell_type": "code",
   "execution_count": 294,
   "id": "c8677295",
   "metadata": {},
   "outputs": [],
   "source": [
    "import scipy\n",
    "from scipy.stats import norm, binom, iqr, t, tstd\n",
    "import numpy as np\n",
    "from numpy.random import seed\n",
    "from numpy.random import normal\n",
    "import matplotlib.pyplot as plt"
   ]
  },
  {
   "cell_type": "code",
   "execution_count": 295,
   "id": "0c5c5915",
   "metadata": {},
   "outputs": [],
   "source": [
    "def to_percentage(n):\n",
    "    return str(n * 100) + \"%\""
   ]
  },
  {
   "cell_type": "code",
   "execution_count": 296,
   "id": "54c26572",
   "metadata": {},
   "outputs": [],
   "source": [
    "def percentage_until_z_score(z_score):\n",
    "    res = norm.cdf(z_score)\n",
    "    print(to_percentage(res))\n",
    "    return res"
   ]
  },
  {
   "cell_type": "code",
   "execution_count": 297,
   "id": "9fa60ddb",
   "metadata": {},
   "outputs": [],
   "source": [
    "def percentage_after_z_score(z_score):\n",
    "    res = norm.cdf(-z_score)\n",
    "    print(to_percentage(res))\n",
    "    return res\n",
    "\n",
    "def percentage_between_z_score(z1, z2):\n",
    "    res = percentage_until_z_score(z2) - percentage_until_z_score(z1)\n",
    "    print(res)\n",
    "    return res"
   ]
  },
  {
   "cell_type": "code",
   "execution_count": 298,
   "id": "cfb015c9",
   "metadata": {},
   "outputs": [],
   "source": [
    "def percentage_two_tail(z_score):\n",
    "    res = norm.cdf(1-((1 - z_score) / 2))\n",
    "    print(to_percentage(res))\n",
    "    return to_percentage(res)\n",
    "def two_tail_zscore(percentage):\n",
    "    res = norm.ppf(1 - (1 - percentage) / 2)\n",
    "    print(res)\n",
    "    return res"
   ]
  },
  {
   "cell_type": "code",
   "execution_count": 299,
   "id": "f62301a0",
   "metadata": {},
   "outputs": [],
   "source": [
    "def calc_zscore(val, mean, std_d):\n",
    "    res = (val - mean) / std_d\n",
    "    print(res)\n",
    "    return res"
   ]
  },
  {
   "cell_type": "code",
   "execution_count": 300,
   "id": "40151bd6",
   "metadata": {},
   "outputs": [],
   "source": [
    "def p_less_than(val, mean, std_d):\n",
    "    res = norm(mean, std_d).cdf(val)\n",
    "    print(to_percentage(res))\n",
    "    return res"
   ]
  },
  {
   "cell_type": "code",
   "execution_count": 301,
   "id": "fcb6e85a",
   "metadata": {},
   "outputs": [],
   "source": [
    "def p_more_than(val, mean, std_d):\n",
    "    res = (1 - norm(mean, std_d).cdf(val))\n",
    "    print(to_percentage(res))\n",
    "    return res"
   ]
  },
  {
   "cell_type": "code",
   "execution_count": 302,
   "id": "f267f02e",
   "metadata": {},
   "outputs": [],
   "source": [
    "def p_between(val1, val2, mean, std_d):\n",
    "    if val1 <= val2:\n",
    "        return p_less_than(val2, mean, std_d) - p_less_than(val1, mean, std_d)\n",
    "    else:\n",
    "        return p_less_than(val1, mean, std_d) - p_less_than(val2, mean, std_d)"
   ]
  },
  {
   "cell_type": "code",
   "execution_count": 303,
   "id": "ed429619",
   "metadata": {},
   "outputs": [],
   "source": [
    "def p_to_zscore(percentage):\n",
    "    res = norm.ppf(percentage)\n",
    "    print(res)\n",
    "    return res\n",
    "\n",
    "def p_to_val(percentage, mean, std_d):\n",
    "    std_diff = p_to_zscore(percentage)\n",
    "    res = mean + std_diff * std_d\n",
    "    print(res)\n",
    "    return res"
   ]
  },
  {
   "cell_type": "code",
   "execution_count": 304,
   "id": "6b48ac8f",
   "metadata": {},
   "outputs": [],
   "source": [
    "def binomial_exact_p(sample_size, p, expected_val):\n",
    "    res = binom.pmf(expected_val, sample_size, p)\n",
    "    print(res)\n",
    "    return res"
   ]
  },
  {
   "cell_type": "code",
   "execution_count": 305,
   "id": "2d296328",
   "metadata": {},
   "outputs": [],
   "source": [
    "def binomial_less_or_equal_to_p(sample_size, p, val):\n",
    "    res = binom.cdf(val, sample_size, p)\n",
    "    print(res)\n",
    "    return res\n",
    "def binomial_less_than_p(sample_size, p, val):\n",
    "    res = binom.cdf(val - 1, sample_size, p)\n",
    "    print(res)\n",
    "    return res"
   ]
  },
  {
   "cell_type": "code",
   "execution_count": 306,
   "id": "6855ca29",
   "metadata": {},
   "outputs": [],
   "source": [
    "def binomial_more_or_equal_to_p(sample_size, p, val):\n",
    "    res = 1 - binom.cdf(val - 1, sample_size, p)\n",
    "    print(res)\n",
    "    return res\n",
    "\n",
    "def binomial_more_than_p(sample_size, p, val):\n",
    "    res = 1 - binom.cdf(val, sample_size, p)\n",
    "    print(res)\n",
    "    return res"
   ]
  },
  {
   "cell_type": "code",
   "execution_count": 307,
   "id": "ce5f312f",
   "metadata": {},
   "outputs": [],
   "source": [
    "def binomial_between_p(p1, p2, sample_size, p):\n",
    "    res = binomial_less_or_equal_to_p(sample_size, p, p2) - binomial_less_or_equal_to_p(sample_size, p, p1 - 1)\n",
    "    print(res)\n",
    "    return res"
   ]
  },
  {
   "cell_type": "code",
   "execution_count": 308,
   "id": "75417be3",
   "metadata": {},
   "outputs": [],
   "source": [
    "def std_of_binom(sample_size, p):\n",
    "    res = np.sqrt(sample_size * p * (1 - p))\n",
    "    print(res)\n",
    "    return res"
   ]
  },
  {
   "cell_type": "code",
   "execution_count": 309,
   "id": "ceb12804",
   "metadata": {},
   "outputs": [],
   "source": [
    "def se(p, sample_size):\n",
    "    res = np.sqrt((p * (1 - p) / sample_size))\n",
    "    print(res)\n",
    "    return res"
   ]
  },
  {
   "cell_type": "code",
   "execution_count": 310,
   "id": "ba1695b2",
   "metadata": {},
   "outputs": [],
   "source": [
    "def clt_more_than(p, sample_size, val):\n",
    "    stde = se(p, sample_size)\n",
    "    res = p_more_than(val, p, stde)\n",
    "    print(res)\n",
    "    return res"
   ]
  },
  {
   "cell_type": "code",
   "execution_count": 311,
   "id": "1a48f496",
   "metadata": {},
   "outputs": [],
   "source": [
    "def clt_p_to_z(p, sample_size, val):\n",
    "    stde = se(p, sample_size)\n",
    "    res = calc_zscore(val, p, stde)\n",
    "    print(res)\n",
    "    return res"
   ]
  },
  {
   "cell_type": "code",
   "execution_count": 312,
   "id": "b20bd252",
   "metadata": {},
   "outputs": [],
   "source": [
    "def confidence_interval(p, sample_size, conf_level_pct):\n",
    "    std_e = se(p, sample_size)\n",
    "    z = two_tail_zscore(conf_level_pct)\n",
    "    margin_e = std_e * z\n",
    "    print(\"margin error\", margin_e)\n",
    "    print(p - z * std_e, p + z * std_e)\n",
    "    return (p - z * std_e, p + z * std_e)\n",
    "\n",
    "def margin_of_err(z, se):\n",
    "    return z * se"
   ]
  },
  {
   "cell_type": "code",
   "execution_count": 313,
   "id": "a55d724c",
   "metadata": {},
   "outputs": [],
   "source": [
    "def conf_interval_in_populations(p1, p2, size_1, size_2, conf_level_pct):\n",
    "    se_est = np.sqrt(p1 * (1 - p1) / size_1 + p2 * (1 - p2) /size_2)\n",
    "    statistic = p1 - p2\n",
    "    z = two_tail_zscore(conf_level_pct)\n",
    "    res = (statistic - z * se_est, statistic + z * se_est)\n",
    "    print(res)\n",
    "    return res"
   ]
  },
  {
   "cell_type": "code",
   "execution_count": 314,
   "id": "aad664ef",
   "metadata": {},
   "outputs": [],
   "source": [
    "def one_proportion_z_test_statistic(p_observed, p_null_hypo, sample_size):\n",
    "  z = (p_observed - p_null_hypo) / np.sqrt(p_null_hypo * (1 - p_null_hypo) / sample_size)\n",
    "  print(\"one proportion z test statistic is\", z)\n",
    "  return z\n"
   ]
  },
  {
   "cell_type": "code",
   "execution_count": 315,
   "id": "ed753e31",
   "metadata": {},
   "outputs": [],
   "source": [
    "def hypo_one_pro(success, sample_size, population_p, confidence_level):\n",
    "  z = one_proportion_z_test_statistic(success/sample_size, population_p, sample_size)\n",
    "  print('z is', z)\n",
    "  print('percentage_after_z_score', percentage_after_z_score(z))\n",
    "  print('percentage_until_z_score', percentage_until_z_score(z))\n",
    "  print('confidence_interval', confidence_interval(success/sample_size, sample_size, confidence_level))\n"
   ]
  },
  {
   "cell_type": "code",
   "execution_count": 316,
   "id": "e60d2921",
   "metadata": {},
   "outputs": [],
   "source": [
    "def hypo_two_pro(success_1, sample_size_1, success_2, sample_size_2):\n",
    "  p1 = success_1/sample_size_1\n",
    "  p2 = success_2/sample_size_2\n",
    "  p = (success_1 + success_2) / (sample_size_1 + sample_size_2)\n",
    "  se = np.sqrt(p*(1-p)*(1/sample_size_1 + 1/sample_size_2))\n",
    "  z = (p1 - p2 - 0)/se\n",
    "  print('p1 ', p1)\n",
    "  print('p2 ', p2)\n",
    "  print('p ', p)\n",
    "  print('se', se)\n",
    "  print('z', z)\n",
    "  return {\n",
    "    \"z\": z,\n",
    "    \"p1\": p1,\n",
    "    \"p2\": p2,\n",
    "    \"p\": p,\n",
    "    \"se\": se,\n",
    "    \"p1_pop\": sample_size_1,\n",
    "    \"p2_pop\": sample_size_2,\n",
    "    \"p1_suc\": success_1,\n",
    "    \"p2_suc\": success_2\n",
    "  }"
   ]
  },
  {
   "cell_type": "code",
   "execution_count": 317,
   "id": "f89952c5",
   "metadata": {},
   "outputs": [
    {
     "name": "stdout",
     "output_type": "stream",
     "text": [
      "p1  0.55\n",
      "p2  0.57\n",
      "p  0.56\n",
      "se 0.01812548849916419\n",
      "z -1.1034185368809317\n"
     ]
    }
   ],
   "source": [
    "res = hypo_two_pro(0.55*1500, 1500, 0.57*1500, 1500)"
   ]
  },
  {
   "cell_type": "code",
   "execution_count": 318,
   "id": "323a433e",
   "metadata": {},
   "outputs": [
    {
     "name": "stdout",
     "output_type": "stream",
     "text": [
      "2.5758293035489004\n",
      "(-0.06667868939650468, 0.026678689396504862)\n"
     ]
    },
    {
     "data": {
      "text/plain": [
       "(-0.06667868939650468, 0.026678689396504862)"
      ]
     },
     "execution_count": 318,
     "metadata": {},
     "output_type": "execute_result"
    }
   ],
   "source": [
    "conf_interval_in_populations(res[\"p1\"],res[\"p2\"], res[\"p1_pop\"], res[\"p2_pop\"], 0.99)"
   ]
  },
  {
   "cell_type": "code",
   "execution_count": 319,
   "id": "c7bbaaf1",
   "metadata": {},
   "outputs": [],
   "source": [
    "def calc_means_stde(n, std):\n",
    "    return std / np.sqrt(n)"
   ]
  },
  {
   "cell_type": "code",
   "execution_count": 320,
   "id": "3166ee06",
   "metadata": {},
   "outputs": [],
   "source": [
    "def calc_t(confi_level, data_count):\n",
    "    return t.ppf(1 - (1 - confi_level) / 2, data_count - 1)"
   ]
  },
  {
   "cell_type": "code",
   "execution_count": 348,
   "id": "ac46809f",
   "metadata": {},
   "outputs": [],
   "source": [
    "def calc_conv_interval_with_arr(arr, confi_level):\n",
    "    mean = np.mean(arr)\n",
    "    std = tstd(arr)\n",
    "    sample_size = len(arr)\n",
    "    se_mean = std / np.sqrt(sample_size)\n",
    "    t_val = calc_t(confi_level, sample_size)\n",
    "    print('mean', mean)\n",
    "    print('standard deviation', std)\n",
    "    print(\"standard err\", se_mean)\n",
    "    print('sample size', sample_size)\n",
    "    print(\"t value\", t_val)\n",
    "    return {\"conf_inter\": (mean - t_val * se_mean, mean + t_val * se_mean), \"mean\": mean, \"std\": std, \"s_size\": sample_size,\"se_mean\": se_mean,\"t_val\": t_val}\n",
    "    \n",
    "    "
   ]
  },
  {
   "cell_type": "code",
   "execution_count": 419,
   "id": "83b07c21",
   "metadata": {},
   "outputs": [
    {
     "name": "stdout",
     "output_type": "stream",
     "text": [
      "margin_error 1.6613446246939247\n"
     ]
    },
    {
     "data": {
      "text/plain": [
       "(37.03865537530608, 40.36134462469393)"
      ]
     },
     "execution_count": 419,
     "metadata": {},
     "output_type": "execute_result"
    }
   ],
   "source": [
    "def mean_conf_interval(sample_size, sample_mean, std, conf_level):\n",
    "    t_val = calc_t(conf_level, sample_size)\n",
    "    std_e = std/np.sqrt(sample_size)\n",
    "    print('margin_error', t_val * std_e)\n",
    "    return (sample_mean - t_val * std_e, sample_mean + t_val * std_e)\n",
    "\n",
    "mean_conf_interval(15, 38.7, 3, 0.95)"
   ]
  },
  {
   "cell_type": "code",
   "execution_count": 350,
   "id": "a521e6e7",
   "metadata": {},
   "outputs": [],
   "source": [
    "def t_dist_calc(mean_hat, mean, std, sample_size):\n",
    "    std_e = std / np.sqrt(sample_size)\n",
    "    res = (mean_hat - mean) / std_e\n",
    "    print(\"t is\", res)\n",
    "    return res"
   ]
  },
  {
   "cell_type": "code",
   "execution_count": 367,
   "id": "9cd1537a",
   "metadata": {},
   "outputs": [],
   "source": [
    "def calc_p_value_with_t(t_val, sample_size, option=\"ne\"):\n",
    "#     res = t.sf(abs(t_val), sample_size - 1)\n",
    "    t_val = abs(t_val)\n",
    "    s = sample_size - 1\n",
    "    if option == \"ne\":\n",
    "        return t.sf(t_val, s) * 2\n",
    "    elif option == \"lt\":\n",
    "        return t.sf(t_val, s)\n",
    "    elif option == \"gt\":\n",
    "        return t.sf(t_val, s)\n",
    "    return \"NOT RIGHT OPTION\""
   ]
  },
  {
   "cell_type": "code",
   "execution_count": 410,
   "id": "8133e2c2",
   "metadata": {},
   "outputs": [
    {
     "name": "stdout",
     "output_type": "stream",
     "text": [
      "mean 12.75\n",
      "standard deviation 11.27446834061972\n",
      "standard err 3.2546586657133543\n",
      "sample size 12\n",
      "t value 2.200985160082949\n"
     ]
    },
    {
     "data": {
      "text/plain": [
       "{'conf_inter': (5.586544575629536, 19.913455424370465),\n",
       " 'mean': 12.75,\n",
       " 'std': 11.27446834061972,\n",
       " 's_size': 12,\n",
       " 'se_mean': 3.2546586657133543,\n",
       " 't_val': 2.200985160082949}"
      ]
     },
     "execution_count": 410,
     "metadata": {},
     "output_type": "execute_result"
    }
   ],
   "source": [
    "arr = [22,\n",
    "11,\n",
    "14,\n",
    "11,\n",
    "16,\n",
    "11,\n",
    "0,\n",
    "3,\n",
    "9,\n",
    "42,\n",
    "0,\n",
    "14]\n",
    "val = calc_conv_interval_with_arr(arr, 0.95)\n",
    "p_s = np.mean(arr)\n",
    "val"
   ]
  },
  {
   "cell_type": "code",
   "execution_count": 411,
   "id": "ca965fc4",
   "metadata": {},
   "outputs": [
    {
     "name": "stdout",
     "output_type": "stream",
     "text": [
      "t is 3.917461494293277\n"
     ]
    }
   ],
   "source": [
    "t_val = t_dist_calc(val['mean'], 0, val['std'], val['s_size'])"
   ]
  },
  {
   "cell_type": "code",
   "execution_count": 412,
   "id": "707da476",
   "metadata": {},
   "outputs": [
    {
     "data": {
      "text/plain": [
       "0.0012016507789404849"
      ]
     },
     "execution_count": 412,
     "metadata": {},
     "output_type": "execute_result"
    }
   ],
   "source": [
    "calc_p_value_with_t(t_val, val['s_size'], \"gt\")"
   ]
  },
  {
   "cell_type": "code",
   "execution_count": 415,
   "id": "ad9872c5",
   "metadata": {},
   "outputs": [
    {
     "name": "stdout",
     "output_type": "stream",
     "text": [
      "t is 3.3082706766917336\n"
     ]
    }
   ],
   "source": [
    "t_val = t_dist_calc(, 71.6, 13.3, 100)"
   ]
  },
  {
   "cell_type": "code",
   "execution_count": 417,
   "id": "2b7d6a7b",
   "metadata": {},
   "outputs": [
    {
     "data": {
      "text/plain": [
       "0.0013095398440006066"
      ]
     },
     "execution_count": 417,
     "metadata": {},
     "output_type": "execute_result"
    }
   ],
   "source": [
    "calc_p_value_with_t(t_val, 100, \"ne\")"
   ]
  },
  {
   "cell_type": "code",
   "execution_count": 403,
   "id": "7ef785c2",
   "metadata": {},
   "outputs": [
    {
     "data": {
      "text/plain": [
       "(98.52695699642456, 131.15304300357545)"
      ]
     },
     "execution_count": 403,
     "metadata": {},
     "output_type": "execute_result"
    }
   ],
   "source": [
    "mean_conf_interval(28, 114.84, 42.07, 0.95)"
   ]
  },
  {
   "cell_type": "code",
   "execution_count": 413,
   "id": "6e779805",
   "metadata": {},
   "outputs": [
    {
     "data": {
      "text/plain": [
       "380.0"
      ]
     },
     "execution_count": 413,
     "metadata": {},
     "output_type": "execute_result"
    }
   ],
   "source": [
    "0.95*400"
   ]
  },
  {
   "cell_type": "code",
   "execution_count": 414,
   "id": "3138a631",
   "metadata": {},
   "outputs": [],
   "source": [
    "def calc_2_sample_t_interval(mean1, mean2, actual_mean1, actual_mean2, std_1, std_2, sample_size_1, sample_size_2):\n",
    "    res = ((mean1 - mean2) - (actual_mean1-actual_mean2))/np.sqrt(std_1*std_1/sample_size_1 + std_2*std_2/sample_size_2)\n",
    "    print(\"t for 2 sample is\", res)\n",
    "    return res"
   ]
  },
  {
   "cell_type": "code",
   "execution_count": 421,
   "id": "eb420473",
   "metadata": {},
   "outputs": [
    {
     "name": "stdout",
     "output_type": "stream",
     "text": [
      "margin_error 5.366136260232855\n"
     ]
    },
    {
     "data": {
      "text/plain": [
       "(66.63386373976715, 77.36613626023285)"
      ]
     },
     "execution_count": 421,
     "metadata": {},
     "output_type": "execute_result"
    }
   ],
   "source": [
    "mean_conf_interval(25, 72, 13, 0.95)"
   ]
  },
  {
   "cell_type": "code",
   "execution_count": null,
   "id": "c7af7e40",
   "metadata": {},
   "outputs": [],
   "source": [
    "calc_2_sample_t_interval(173.5, )"
   ]
  }
 ],
 "metadata": {
  "kernelspec": {
   "display_name": "Python 3 (ipykernel)",
   "language": "python",
   "name": "python3"
  },
  "language_info": {
   "codemirror_mode": {
    "name": "ipython",
    "version": 3
   },
   "file_extension": ".py",
   "mimetype": "text/x-python",
   "name": "python",
   "nbconvert_exporter": "python",
   "pygments_lexer": "ipython3",
   "version": "3.10.2"
  },
  "vscode": {
   "interpreter": {
    "hash": "6c32e1a11f4c0490975a6bec180784250a9eb71451e4fe5d3619f3cb6a90cba9"
   }
  }
 },
 "nbformat": 4,
 "nbformat_minor": 5
}
