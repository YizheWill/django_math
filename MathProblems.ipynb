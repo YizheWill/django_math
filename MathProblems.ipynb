{
 "cells": [
  {
   "cell_type": "code",
   "execution_count": 1,
   "id": "c8677295",
   "metadata": {},
   "outputs": [],
   "source": [
    "import scipy\n",
    "from scipy.stats import norm, binom, iqr\n",
    "import numpy as np\n",
    "from numpy.random import seed\n",
    "from numpy.random import normal\n",
    "import matplotlib.pyplot as plt"
   ]
  },
  {
   "cell_type": "code",
   "execution_count": 2,
   "id": "0c5c5915",
   "metadata": {},
   "outputs": [],
   "source": [
    "def to_percentage(n):\n",
    "    return str(n * 100) + \"%\""
   ]
  },
  {
   "cell_type": "code",
   "execution_count": 3,
   "id": "54c26572",
   "metadata": {},
   "outputs": [],
   "source": [
    "def percentage_until_z_score(z_score):\n",
    "    res = norm.cdf(z_score)\n",
    "    print(to_percentage(res))\n",
    "    return res"
   ]
  },
  {
   "cell_type": "code",
   "execution_count": 4,
   "id": "9fa60ddb",
   "metadata": {},
   "outputs": [],
   "source": [
    "def percentage_after_z_score(z_score):\n",
    "    res = norm.cdf(-z_score)\n",
    "    print(to_percentage(res))\n",
    "    return res\n",
    "\n",
    "def percentage_between_z_score(z1, z2):\n",
    "    res = percentage_until_z_score(z2) - percentage_until_z_score(z1)\n",
    "    print(res)\n",
    "    return res"
   ]
  },
  {
   "cell_type": "code",
   "execution_count": 5,
   "id": "cfb015c9",
   "metadata": {},
   "outputs": [],
   "source": [
    "def percentage_two_tail(z_score):\n",
    "    res = norm.cdf(1-((1 - z_score) / 2))\n",
    "    print(to_percentage(res))\n",
    "    return to_percentage(res)\n",
    "def two_tail_zscore(percentage):\n",
    "    res = norm.ppf(1 - (1 - percentage) / 2)\n",
    "    print(res)\n",
    "    return res"
   ]
  },
  {
   "cell_type": "code",
   "execution_count": 6,
   "id": "f62301a0",
   "metadata": {},
   "outputs": [],
   "source": [
    "def calc_zscore(val, mean, std_d):\n",
    "    res = (val - mean) / std_d\n",
    "    print(res)\n",
    "    return res"
   ]
  },
  {
   "cell_type": "code",
   "execution_count": 7,
   "id": "40151bd6",
   "metadata": {},
   "outputs": [],
   "source": [
    "def p_less_than(val, mean, std_d):\n",
    "    res = norm(mean, std_d).cdf(val)\n",
    "    print(to_percentage(res))\n",
    "    return res"
   ]
  },
  {
   "cell_type": "code",
   "execution_count": 8,
   "id": "fcb6e85a",
   "metadata": {},
   "outputs": [],
   "source": [
    "def p_more_than(val, mean, std_d):\n",
    "    res = (1 - norm(mean, std_d).cdf(val))\n",
    "    print(to_percentage(res))\n",
    "    return res"
   ]
  },
  {
   "cell_type": "code",
   "execution_count": 9,
   "id": "f267f02e",
   "metadata": {},
   "outputs": [],
   "source": [
    "def p_between(val1, val2, mean, std_d):\n",
    "    if val1 <= val2:\n",
    "        return p_less_than(val2, mean, std_d) - p_less_than(val1, mean, std_d)\n",
    "    else:\n",
    "        return p_less_than(val1, mean, std_d) - p_less_than(val2, mean, std_d)"
   ]
  },
  {
   "cell_type": "code",
   "execution_count": 10,
   "id": "ed429619",
   "metadata": {},
   "outputs": [],
   "source": [
    "def p_to_zscore(percentage):\n",
    "    res = norm.ppf(percentage)\n",
    "    print(res)\n",
    "    return res\n",
    "\n",
    "def p_to_val(percentage, mean, std_d):\n",
    "    std_diff = p_to_zscore(percentage)\n",
    "    res = mean + std_diff * std_d\n",
    "    print(res)\n",
    "    return res"
   ]
  },
  {
   "cell_type": "code",
   "execution_count": 11,
   "id": "6b48ac8f",
   "metadata": {},
   "outputs": [],
   "source": [
    "def binomial_exact_p(sample_size, p, expected_val):\n",
    "    res = binom.pmf(expected_val, sample_size, p)\n",
    "    print(res)\n",
    "    return res"
   ]
  },
  {
   "cell_type": "code",
   "execution_count": 12,
   "id": "2d296328",
   "metadata": {},
   "outputs": [],
   "source": [
    "def binomial_less_or_equal_to_p(sample_size, p, val):\n",
    "    res = binom.cdf(val, sample_size, p)\n",
    "    print(res)\n",
    "    return res\n",
    "def binomial_less_than_p(sample_size, p, val):\n",
    "    res = binom.cdf(val - 1, sample_size, p)\n",
    "    print(res)\n",
    "    return res"
   ]
  },
  {
   "cell_type": "code",
   "execution_count": 13,
   "id": "6855ca29",
   "metadata": {},
   "outputs": [],
   "source": [
    "def binomial_more_or_equal_to_p(sample_size, p, val):\n",
    "    res = 1 - binom.cdf(val - 1, sample_size, p)\n",
    "    print(res)\n",
    "    return res\n",
    "\n",
    "def binomial_more_than_p(sample_size, p, val):\n",
    "    res = 1 - binom.cdf(val, sample_size, p)\n",
    "    print(res)\n",
    "    return res"
   ]
  },
  {
   "cell_type": "code",
   "execution_count": 14,
   "id": "ce5f312f",
   "metadata": {},
   "outputs": [],
   "source": [
    "def binomial_between_p(p1, p2, sample_size, p):\n",
    "    res = binomial_less_or_equal_to_p(sample_size, p, p2) - binomial_less_or_equal_to_p(sample_size, p, p1 - 1)\n",
    "    print(res)\n",
    "    return res"
   ]
  },
  {
   "cell_type": "code",
   "execution_count": 15,
   "id": "75417be3",
   "metadata": {},
   "outputs": [],
   "source": [
    "def std_of_binom(sample_size, p):\n",
    "    res = np.sqrt(sample_size * p * (1 - p))\n",
    "    print(res)\n",
    "    return res"
   ]
  },
  {
   "cell_type": "code",
   "execution_count": 16,
   "id": "ceb12804",
   "metadata": {},
   "outputs": [],
   "source": [
    "def se(p, sample_size):\n",
    "    res = np.sqrt((p * (1 - p) / sample_size))\n",
    "    print(res)\n",
    "    return res"
   ]
  },
  {
   "cell_type": "code",
   "execution_count": 17,
   "id": "ba1695b2",
   "metadata": {},
   "outputs": [],
   "source": [
    "def clt_more_than(p, sample_size, val):\n",
    "    stde = se(p, sample_size)\n",
    "    res = p_more_than(val, p, stde)\n",
    "    print(res)\n",
    "    return res"
   ]
  },
  {
   "cell_type": "code",
   "execution_count": 18,
   "id": "1a48f496",
   "metadata": {},
   "outputs": [],
   "source": [
    "def clt_p_to_z(p, sample_size, val):\n",
    "    stde = se(p, sample_size)\n",
    "    res = calc_zscore(val, p, stde)\n",
    "    print(res)\n",
    "    return res"
   ]
  },
  {
   "cell_type": "code",
   "execution_count": 19,
   "id": "b20bd252",
   "metadata": {},
   "outputs": [],
   "source": [
    "def confidence_interval(p, sample_size, conf_level_pct):\n",
    "    std_e = se(p, sample_size)\n",
    "    z = two_tail_zscore(conf_level_pct)\n",
    "    margin_e = std_e * z\n",
    "    print(\"margin error\", margin_e)\n",
    "    print(p - z * std_e, p + z * std_e)\n",
    "    return (p - z * std_e, p + z * std_e)\n",
    "\n",
    "def margin_of_err(z, se):\n",
    "    return z * se"
   ]
  },
  {
   "cell_type": "code",
   "execution_count": 20,
   "id": "a55d724c",
   "metadata": {},
   "outputs": [],
   "source": [
    "def conf_interval_in_populations(p1, p2, size_1, size_2, conf_level_pct):\n",
    "    se_est = np.sqrt(p1 * (1 - p1) / size_1 + p2 * (1 - p2) /size_2)\n",
    "    statistic = p1 - p2\n",
    "    z = two_tail_zscore(conf_level_pct)\n",
    "    res = (statistic - z * se_est, statistic + z * se_est)\n",
    "    print(res)\n",
    "    return res"
   ]
  },
  {
   "cell_type": "code",
   "execution_count": 21,
   "id": "aad664ef",
   "metadata": {},
   "outputs": [],
   "source": [
    "def one_proportion_z_test_statistic(p_observed, p_null_hypo, sample_size):\n",
    "  z = (p_observed - p_null_hypo) / np.sqrt(p_null_hypo * (1 - p_null_hypo) / sample_size)\n",
    "  print(\"one proportion z test statistic is\", z)\n",
    "  return z"
   ]
  },
  {
   "cell_type": "code",
   "execution_count": 35,
   "id": "ed753e31",
   "metadata": {},
   "outputs": [],
   "source": [
    "def hypo_one_pro(success, sample_size, population_p, confidence_level):\n",
    "  z = one_proportion_z_test_statistic(success/sample_size, population_p, sample_size)\n",
    "  print('z is', z)\n",
    "  print('percentage_after_z_score', percentage_after_z_score(z))\n",
    "  print('percentage_until_z_score', percentage_until_z_score(z))\n",
    "  print('confidence_interval', confidence_interval(success/sample_size, sample_size, confidence_level))\n"
   ]
  },
  {
   "cell_type": "code",
   "execution_count": 61,
   "id": "e60d2921",
   "metadata": {},
   "outputs": [],
   "source": [
    "def hypo_two_pro(success_1, sample_size_1, success_2, sample_size_2):\n",
    "  p1 = success_1/sample_size_1\n",
    "  p2 = success_2/sample_size_2\n",
    "  p = (success_1 + success_2) / (sample_size_1 + sample_size_2)\n",
    "  se = np.sqrt(p*(1-p)*(1/sample_size_1 + 1/sample_size_2))\n",
    "  z = (p1 - p2 - 0)/se\n",
    "  print('p1 ', p1)\n",
    "  print('p2 ', p2)\n",
    "  print('p ', p)\n",
    "  print('se', se)\n",
    "  print('z', z)\n",
    "  return {\n",
    "    \"z\": z,\n",
    "    \"p1\": p1,\n",
    "    \"p2\": p2,\n",
    "    \"p\": p,\n",
    "    \"se\": se,\n",
    "    \"p1_pop\": sample_size_1,\n",
    "    \"p2_pop\": sample_size_2,\n",
    "    \"p1_suc\": success_1,\n",
    "    \"p2_suc\": success_2\n",
    "  }"
   ]
  },
  {
   "cell_type": "code",
   "execution_count": 76,
   "id": "f89952c5",
   "metadata": {},
   "outputs": [
    {
     "name": "stdout",
     "output_type": "stream",
     "text": [
      "p1  0.55\n",
      "p2  0.57\n",
      "p  0.56\n",
      "se 0.01812548849916419\n",
      "z -1.1034185368809317\n"
     ]
    }
   ],
   "source": [
    "res = hypo_two_pro(0.55*1500, 1500, 0.57*1500, 1500)"
   ]
  },
  {
   "cell_type": "code",
   "execution_count": 78,
   "id": "2a2c89b8",
   "metadata": {},
   "outputs": [
    {
     "name": "stdout",
     "output_type": "stream",
     "text": [
      "13.49227251861071%\n"
     ]
    },
    {
     "data": {
      "text/plain": [
       "0.2698454503722142"
      ]
     },
     "execution_count": 78,
     "metadata": {},
     "output_type": "execute_result"
    }
   ],
   "source": [
    "percentage_until_z_score(res['z'])*2"
   ]
  },
  {
   "cell_type": "code",
   "execution_count": 72,
   "id": "323a433e",
   "metadata": {},
   "outputs": [
    {
     "name": "stdout",
     "output_type": "stream",
     "text": [
      "2.5758293035489004\n",
      "(-0.01269364866131887, 0.05005158056864981)\n"
     ]
    },
    {
     "data": {
      "text/plain": [
       "(-0.01269364866131887, 0.05005158056864981)"
      ]
     },
     "execution_count": 72,
     "metadata": {},
     "output_type": "execute_result"
    }
   ],
   "source": [
    "conf_interval_in_populations(res[\"p1\"],res[\"p2\"], res[\"p1_pop\"], res[\"p2_pop\"], 0.99)"
   ]
  },
  {
   "cell_type": "code",
   "execution_count": 79,
   "id": "ebf7a4b1",
   "metadata": {},
   "outputs": [
    {
     "name": "stdout",
     "output_type": "stream",
     "text": [
      "15.865525393145708%\n"
     ]
    },
    {
     "data": {
      "text/plain": [
       "0.15865525393145707"
      ]
     },
     "execution_count": 79,
     "metadata": {},
     "output_type": "execute_result"
    }
   ],
   "source": [
    "percentage_after_z_score(1)"
   ]
  },
  {
   "cell_type": "code",
   "execution_count": 81,
   "id": "f7772b5d",
   "metadata": {},
   "outputs": [
    {
     "name": "stdout",
     "output_type": "stream",
     "text": [
      "84.1344746068543%\n"
     ]
    },
    {
     "data": {
      "text/plain": [
       "0.15865525393145707"
      ]
     },
     "execution_count": 81,
     "metadata": {},
     "output_type": "execute_result"
    }
   ],
   "source": [
    "1 - percentage_after_z_score(-1)"
   ]
  },
  {
   "cell_type": "code",
   "execution_count": 82,
   "id": "3dd1d09d",
   "metadata": {},
   "outputs": [
    {
     "name": "stdout",
     "output_type": "stream",
     "text": [
      "84.1344746068543%\n",
      "15.865525393145708%\n",
      "0.6826894921370859\n"
     ]
    },
    {
     "data": {
      "text/plain": [
       "0.6826894921370859"
      ]
     },
     "execution_count": 82,
     "metadata": {},
     "output_type": "execute_result"
    }
   ],
   "source": [
    "percentage_between_z_score(-1, 1)"
   ]
  },
  {
   "cell_type": "code",
   "execution_count": 90,
   "id": "3fb1a016",
   "metadata": {},
   "outputs": [
    {
     "data": {
      "text/plain": [
       "3800.0"
      ]
     },
     "execution_count": 90,
     "metadata": {},
     "output_type": "execute_result"
    }
   ],
   "source": [
    "38000/np.sqrt(100)"
   ]
  },
  {
   "cell_type": "code",
   "execution_count": 91,
   "id": "36c7c8ea",
   "metadata": {},
   "outputs": [
    {
     "name": "stdout",
     "output_type": "stream",
     "text": [
      "84.1344746068543%\n",
      "15.865525393145708%\n",
      "0.6826894921370859\n"
     ]
    },
    {
     "data": {
      "text/plain": [
       "0.6826894921370859"
      ]
     },
     "execution_count": 91,
     "metadata": {},
     "output_type": "execute_result"
    }
   ],
   "source": [
    "percentage_between_z_score(-1,1)"
   ]
  },
  {
   "cell_type": "code",
   "execution_count": 92,
   "id": "526b7ac6",
   "metadata": {},
   "outputs": [
    {
     "data": {
      "text/plain": [
       "8.0"
      ]
     },
     "execution_count": 92,
     "metadata": {},
     "output_type": "execute_result"
    }
   ],
   "source": [
    "2.4/0.3"
   ]
  },
  {
   "cell_type": "code",
   "execution_count": 95,
   "id": "9721306d",
   "metadata": {},
   "outputs": [
    {
     "name": "stdout",
     "output_type": "stream",
     "text": [
      "99.86501019683699%\n",
      "0.13498980316300932%\n",
      "0.9973002039367398\n"
     ]
    },
    {
     "data": {
      "text/plain": [
       "0.9973002039367398"
      ]
     },
     "execution_count": 95,
     "metadata": {},
     "output_type": "execute_result"
    }
   ],
   "source": [
    "percentage_between_z_score(-3, 3)"
   ]
  },
  {
   "cell_type": "code",
   "execution_count": null,
   "id": "745b6fef",
   "metadata": {},
   "outputs": [],
   "source": []
  }
 ],
 "metadata": {
  "kernelspec": {
   "display_name": "Python 3 (ipykernel)",
   "language": "python",
   "name": "python3"
  },
  "language_info": {
   "codemirror_mode": {
    "name": "ipython",
    "version": 3
   },
   "file_extension": ".py",
   "mimetype": "text/x-python",
   "name": "python",
   "nbconvert_exporter": "python",
   "pygments_lexer": "ipython3",
   "version": "3.10.2"
  },
  "vscode": {
   "interpreter": {
    "hash": "6c32e1a11f4c0490975a6bec180784250a9eb71451e4fe5d3619f3cb6a90cba9"
   }
  }
 },
 "nbformat": 4,
 "nbformat_minor": 5
}
