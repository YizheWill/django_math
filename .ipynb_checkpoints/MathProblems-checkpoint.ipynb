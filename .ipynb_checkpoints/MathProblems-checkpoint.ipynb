{
 "cells": [
  {
   "cell_type": "code",
   "execution_count": 35,
   "id": "c8677295",
   "metadata": {},
   "outputs": [],
   "source": [
    "import scipy\n",
    "from scipy.stats import norm, binom, iqr, t\n",
    "import numpy as np\n",
    "from numpy.random import seed\n",
    "from numpy.random import normal\n",
    "import matplotlib.pyplot as plt"
   ]
  },
  {
   "cell_type": "code",
   "execution_count": 36,
   "id": "0c5c5915",
   "metadata": {},
   "outputs": [],
   "source": [
    "def to_percentage(n):\n",
    "    return str(n * 100) + \"%\""
   ]
  },
  {
   "cell_type": "code",
   "execution_count": 37,
   "id": "54c26572",
   "metadata": {},
   "outputs": [],
   "source": [
    "def percentage_until_z_score(z_score):\n",
    "    res = norm.cdf(z_score)\n",
    "    print(to_percentage(res))\n",
    "    return res"
   ]
  },
  {
   "cell_type": "code",
   "execution_count": 38,
   "id": "9fa60ddb",
   "metadata": {},
   "outputs": [],
   "source": [
    "def percentage_after_z_score(z_score):\n",
    "    res = norm.cdf(-z_score)\n",
    "    print(to_percentage(res))\n",
    "    return res\n",
    "\n",
    "def percentage_between_z_score(z1, z2):\n",
    "    res = percentage_until_z_score(z2) - percentage_until_z_score(z1)\n",
    "    print(res)\n",
    "    return res"
   ]
  },
  {
   "cell_type": "code",
   "execution_count": 39,
   "id": "cfb015c9",
   "metadata": {},
   "outputs": [],
   "source": [
    "def percentage_two_tail(z_score):\n",
    "    res = norm.cdf(1-((1 - z_score) / 2))\n",
    "    print(to_percentage(res))\n",
    "    return to_percentage(res)\n",
    "def two_tail_zscore(percentage):\n",
    "    res = norm.ppf(1 - (1 - percentage) / 2)\n",
    "    print(res)\n",
    "    return res"
   ]
  },
  {
   "cell_type": "code",
   "execution_count": 40,
   "id": "f62301a0",
   "metadata": {},
   "outputs": [],
   "source": [
    "def calc_zscore(val, mean, std_d):\n",
    "    res = (val - mean) / std_d\n",
    "    print(res)\n",
    "    return res"
   ]
  },
  {
   "cell_type": "code",
   "execution_count": 41,
   "id": "40151bd6",
   "metadata": {},
   "outputs": [],
   "source": [
    "def p_less_than(val, mean, std_d):\n",
    "    res = norm(mean, std_d).cdf(val)\n",
    "    print(to_percentage(res))\n",
    "    return res"
   ]
  },
  {
   "cell_type": "code",
   "execution_count": 42,
   "id": "fcb6e85a",
   "metadata": {},
   "outputs": [],
   "source": [
    "def p_more_than(val, mean, std_d):\n",
    "    res = (1 - norm(mean, std_d).cdf(val))\n",
    "    print(to_percentage(res))\n",
    "    return res"
   ]
  },
  {
   "cell_type": "code",
   "execution_count": 43,
   "id": "f267f02e",
   "metadata": {},
   "outputs": [],
   "source": [
    "def p_between(val1, val2, mean, std_d):\n",
    "    if val1 <= val2:\n",
    "        return p_less_than(val2, mean, std_d) - p_less_than(val1, mean, std_d)\n",
    "    else:\n",
    "        return p_less_than(val1, mean, std_d) - p_less_than(val2, mean, std_d)"
   ]
  },
  {
   "cell_type": "code",
   "execution_count": 44,
   "id": "ed429619",
   "metadata": {},
   "outputs": [],
   "source": [
    "def p_to_zscore(percentage):\n",
    "    res = norm.ppf(percentage)\n",
    "    print(res)\n",
    "    return res\n",
    "\n",
    "def p_to_val(percentage, mean, std_d):\n",
    "    std_diff = p_to_zscore(percentage)\n",
    "    res = mean + std_diff * std_d\n",
    "    print(res)\n",
    "    return res"
   ]
  },
  {
   "cell_type": "code",
   "execution_count": 45,
   "id": "6b48ac8f",
   "metadata": {},
   "outputs": [],
   "source": [
    "def binomial_exact_p(sample_size, p, expected_val):\n",
    "    res = binom.pmf(expected_val, sample_size, p)\n",
    "    print(res)\n",
    "    return res"
   ]
  },
  {
   "cell_type": "code",
   "execution_count": 46,
   "id": "2d296328",
   "metadata": {},
   "outputs": [],
   "source": [
    "def binomial_less_or_equal_to_p(sample_size, p, val):\n",
    "    res = binom.cdf(val, sample_size, p)\n",
    "    print(res)\n",
    "    return res\n",
    "def binomial_less_than_p(sample_size, p, val):\n",
    "    res = binom.cdf(val - 1, sample_size, p)\n",
    "    print(res)\n",
    "    return res"
   ]
  },
  {
   "cell_type": "code",
   "execution_count": 47,
   "id": "6855ca29",
   "metadata": {},
   "outputs": [],
   "source": [
    "def binomial_more_or_equal_to_p(sample_size, p, val):\n",
    "    res = 1 - binom.cdf(val - 1, sample_size, p)\n",
    "    print(res)\n",
    "    return res\n",
    "\n",
    "def binomial_more_than_p(sample_size, p, val):\n",
    "    res = 1 - binom.cdf(val, sample_size, p)\n",
    "    print(res)\n",
    "    return res"
   ]
  },
  {
   "cell_type": "code",
   "execution_count": 48,
   "id": "ce5f312f",
   "metadata": {},
   "outputs": [],
   "source": [
    "def binomial_between_p(p1, p2, sample_size, p):\n",
    "    res = binomial_less_or_equal_to_p(sample_size, p, p2) - binomial_less_or_equal_to_p(sample_size, p, p1 - 1)\n",
    "    print(res)\n",
    "    return res"
   ]
  },
  {
   "cell_type": "code",
   "execution_count": 49,
   "id": "75417be3",
   "metadata": {},
   "outputs": [],
   "source": [
    "def std_of_binom(sample_size, p):\n",
    "    res = np.sqrt(sample_size * p * (1 - p))\n",
    "    print(res)\n",
    "    return res"
   ]
  },
  {
   "cell_type": "code",
   "execution_count": 50,
   "id": "ceb12804",
   "metadata": {},
   "outputs": [],
   "source": [
    "def se(p, sample_size):\n",
    "    res = np.sqrt((p * (1 - p) / sample_size))\n",
    "    print(res)\n",
    "    return res"
   ]
  },
  {
   "cell_type": "code",
   "execution_count": 51,
   "id": "ba1695b2",
   "metadata": {},
   "outputs": [],
   "source": [
    "def clt_more_than(p, sample_size, val):\n",
    "    stde = se(p, sample_size)\n",
    "    res = p_more_than(val, p, stde)\n",
    "    print(res)\n",
    "    return res"
   ]
  },
  {
   "cell_type": "code",
   "execution_count": 52,
   "id": "1a48f496",
   "metadata": {},
   "outputs": [],
   "source": [
    "def clt_p_to_z(p, sample_size, val):\n",
    "    stde = se(p, sample_size)\n",
    "    res = calc_zscore(val, p, stde)\n",
    "    print(res)\n",
    "    return res"
   ]
  },
  {
   "cell_type": "code",
   "execution_count": 53,
   "id": "b20bd252",
   "metadata": {},
   "outputs": [],
   "source": [
    "def confidence_interval(p, sample_size, conf_level_pct):\n",
    "    std_e = se(p, sample_size)\n",
    "    z = two_tail_zscore(conf_level_pct)\n",
    "    margin_e = std_e * z\n",
    "    print(\"margin error\", margin_e)\n",
    "    print(p - z * std_e, p + z * std_e)\n",
    "    return (p - z * std_e, p + z * std_e)\n",
    "\n",
    "def margin_of_err(z, se):\n",
    "    return z * se"
   ]
  },
  {
   "cell_type": "code",
   "execution_count": 54,
   "id": "a55d724c",
   "metadata": {},
   "outputs": [],
   "source": [
    "def conf_interval_in_populations(p1, p2, size_1, size_2, conf_level_pct):\n",
    "    se_est = np.sqrt(p1 * (1 - p1) / size_1 + p2 * (1 - p2) /size_2)\n",
    "    statistic = p1 - p2\n",
    "    z = two_tail_zscore(conf_level_pct)\n",
    "    res = (statistic - z * se_est, statistic + z * se_est)\n",
    "    print(res)\n",
    "    return res"
   ]
  },
  {
   "cell_type": "code",
   "execution_count": 55,
   "id": "aad664ef",
   "metadata": {},
   "outputs": [],
   "source": [
    "def one_proportion_z_test_statistic(p_observed, p_null_hypo, sample_size):\n",
    "  z = (p_observed - p_null_hypo) / np.sqrt(p_null_hypo * (1 - p_null_hypo) / sample_size)\n",
    "  print(\"one proportion z test statistic is\", z)\n",
    "  return z"
   ]
  },
  {
   "cell_type": "code",
   "execution_count": 56,
   "id": "ed753e31",
   "metadata": {},
   "outputs": [],
   "source": [
    "def hypo_one_pro(success, sample_size, population_p, confidence_level):\n",
    "  z = one_proportion_z_test_statistic(success/sample_size, population_p, sample_size)\n",
    "  print('z is', z)\n",
    "  print('percentage_after_z_score', percentage_after_z_score(z))\n",
    "  print('percentage_until_z_score', percentage_until_z_score(z))\n",
    "  print('confidence_interval', confidence_interval(success/sample_size, sample_size, confidence_level))\n"
   ]
  },
  {
   "cell_type": "code",
   "execution_count": 57,
   "id": "e60d2921",
   "metadata": {},
   "outputs": [],
   "source": [
    "def hypo_two_pro(success_1, sample_size_1, success_2, sample_size_2):\n",
    "  p1 = success_1/sample_size_1\n",
    "  p2 = success_2/sample_size_2\n",
    "  p = (success_1 + success_2) / (sample_size_1 + sample_size_2)\n",
    "  se = np.sqrt(p*(1-p)*(1/sample_size_1 + 1/sample_size_2))\n",
    "  z = (p1 - p2 - 0)/se\n",
    "  print('p1 ', p1)\n",
    "  print('p2 ', p2)\n",
    "  print('p ', p)\n",
    "  print('se', se)\n",
    "  print('z', z)\n",
    "  return {\n",
    "    \"z\": z,\n",
    "    \"p1\": p1,\n",
    "    \"p2\": p2,\n",
    "    \"p\": p,\n",
    "    \"se\": se,\n",
    "    \"p1_pop\": sample_size_1,\n",
    "    \"p2_pop\": sample_size_2,\n",
    "    \"p1_suc\": success_1,\n",
    "    \"p2_suc\": success_2\n",
    "  }"
   ]
  },
  {
   "cell_type": "code",
   "execution_count": 58,
   "id": "f89952c5",
   "metadata": {},
   "outputs": [
    {
     "name": "stdout",
     "output_type": "stream",
     "text": [
      "p1  0.55\n",
      "p2  0.57\n",
      "p  0.56\n",
      "se 0.01812548849916419\n",
      "z -1.1034185368809317\n"
     ]
    }
   ],
   "source": [
    "res = hypo_two_pro(0.55*1500, 1500, 0.57*1500, 1500)"
   ]
  },
  {
   "cell_type": "code",
   "execution_count": 59,
   "id": "323a433e",
   "metadata": {},
   "outputs": [
    {
     "name": "stdout",
     "output_type": "stream",
     "text": [
      "2.5758293035489004\n",
      "(-0.06667868939650468, 0.026678689396504862)\n"
     ]
    },
    {
     "data": {
      "text/plain": [
       "(-0.06667868939650468, 0.026678689396504862)"
      ]
     },
     "execution_count": 59,
     "metadata": {},
     "output_type": "execute_result"
    }
   ],
   "source": [
    "conf_interval_in_populations(res[\"p1\"],res[\"p2\"], res[\"p1_pop\"], res[\"p2_pop\"], 0.99)"
   ]
  },
  {
   "cell_type": "code",
   "execution_count": 60,
   "id": "f32f2132",
   "metadata": {},
   "outputs": [
    {
     "name": "stdout",
     "output_type": "stream",
     "text": [
      "84.1344746068543%\n",
      "15.865525393145708%\n",
      "0.6826894921370859\n"
     ]
    },
    {
     "data": {
      "text/plain": [
       "0.6826894921370859"
      ]
     },
     "execution_count": 60,
     "metadata": {},
     "output_type": "execute_result"
    }
   ],
   "source": [
    "percentage_between_z_score(-1, 1)"
   ]
  },
  {
   "cell_type": "code",
   "execution_count": 61,
   "id": "7d85d250",
   "metadata": {},
   "outputs": [],
   "source": [
    "def calc_means_stde(n, std):\n",
    "    return std / np.sqrt(n)"
   ]
  },
  {
   "cell_type": "code",
   "execution_count": 62,
   "id": "1c63f959",
   "metadata": {},
   "outputs": [
    {
     "data": {
      "text/plain": [
       "0.19999999999999998"
      ]
     },
     "execution_count": 62,
     "metadata": {},
     "output_type": "execute_result"
    }
   ],
   "source": [
    "calc_means_stde(9, 0.6)"
   ]
  },
  {
   "cell_type": "code",
   "execution_count": 63,
   "id": "0a4ff5ca",
   "metadata": {},
   "outputs": [
    {
     "data": {
      "text/plain": [
       "-5.9999999999999964"
      ]
     },
     "execution_count": 63,
     "metadata": {},
     "output_type": "execute_result"
    }
   ],
   "source": [
    "(6.4-7.6)/0.2"
   ]
  },
  {
   "cell_type": "code",
   "execution_count": 66,
   "id": "e82e3c1e",
   "metadata": {},
   "outputs": [
    {
     "name": "stdout",
     "output_type": "stream",
     "text": [
      "0.13498980316300932%\n"
     ]
    },
    {
     "data": {
      "text/plain": [
       "0.9973002039367398"
      ]
     },
     "execution_count": 66,
     "metadata": {},
     "output_type": "execute_result"
    }
   ],
   "source": [
    "1 - (percentage_until_z_score(-3) * 2)"
   ]
  },
  {
   "cell_type": "code",
   "execution_count": 68,
   "id": "4a846f11",
   "metadata": {},
   "outputs": [
    {
     "name": "stdout",
     "output_type": "stream",
     "text": [
      "15.865525393145708%\n"
     ]
    },
    {
     "data": {
      "text/plain": [
       "0.31731050786291415"
      ]
     },
     "execution_count": 68,
     "metadata": {},
     "output_type": "execute_result"
    }
   ],
   "source": [
    "percentage_after_z_score(1) * 2"
   ]
  },
  {
   "cell_type": "code",
   "execution_count": 71,
   "id": "b6ec7a75",
   "metadata": {},
   "outputs": [
    {
     "data": {
      "text/plain": [
       "50.0"
      ]
     },
     "execution_count": 71,
     "metadata": {},
     "output_type": "execute_result"
    }
   ],
   "source": [
    "2000/40"
   ]
  },
  {
   "cell_type": "code",
   "execution_count": 73,
   "id": "a91e8479",
   "metadata": {},
   "outputs": [
    {
     "data": {
      "text/plain": [
       "9.08"
      ]
     },
     "execution_count": 73,
     "metadata": {},
     "output_type": "execute_result"
    }
   ],
   "source": [
    "(53700-53246)/50"
   ]
  },
  {
   "cell_type": "code",
   "execution_count": 79,
   "id": "a1037175",
   "metadata": {},
   "outputs": [
    {
     "data": {
      "text/plain": [
       "(4.809217287420774, 6.690782712579226)"
      ]
     },
     "execution_count": 79,
     "metadata": {},
     "output_type": "execute_result"
    }
   ],
   "source": [
    "(5.75-1.959963984540054*0.48, 5.75+1.959963984540054*0.48)"
   ]
  },
  {
   "cell_type": "code",
   "execution_count": 77,
   "id": "87967fb1",
   "metadata": {},
   "outputs": [
    {
     "name": "stdout",
     "output_type": "stream",
     "text": [
      "5.000037406907855%\n"
     ]
    },
    {
     "data": {
      "text/plain": [
       "0.05000037406907855"
      ]
     },
     "execution_count": 77,
     "metadata": {},
     "output_type": "execute_result"
    }
   ],
   "source": [
    "percentage_after_z_score(1.64485)"
   ]
  },
  {
   "cell_type": "code",
   "execution_count": 78,
   "id": "8ff08940",
   "metadata": {},
   "outputs": [
    {
     "name": "stdout",
     "output_type": "stream",
     "text": [
      "1.959963984540054\n"
     ]
    },
    {
     "data": {
      "text/plain": [
       "1.959963984540054"
      ]
     },
     "execution_count": 78,
     "metadata": {},
     "output_type": "execute_result"
    }
   ],
   "source": [
    "def calc_t(confi_level, data_count):\n",
    "    t.ppf(confi_level, data_count - 1)"
   ]
  },
  {
   "cell_type": "code",
   "execution_count": null,
   "id": "463e500d",
   "metadata": {},
   "outputs": [],
   "source": []
  }
 ],
 "metadata": {
  "kernelspec": {
   "display_name": "Python 3 (ipykernel)",
   "language": "python",
   "name": "python3"
  },
  "language_info": {
   "codemirror_mode": {
    "name": "ipython",
    "version": 3
   },
   "file_extension": ".py",
   "mimetype": "text/x-python",
   "name": "python",
   "nbconvert_exporter": "python",
   "pygments_lexer": "ipython3",
   "version": "3.10.2"
  },
  "vscode": {
   "interpreter": {
    "hash": "6c32e1a11f4c0490975a6bec180784250a9eb71451e4fe5d3619f3cb6a90cba9"
   }
  }
 },
 "nbformat": 4,
 "nbformat_minor": 5
}
