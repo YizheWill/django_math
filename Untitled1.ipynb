{
 "cells": [
  {
   "cell_type": "markdown",
   "id": "c744b16c",
   "metadata": {},
   "source": [
    "# Trignomitry"
   ]
  },
  {
   "cell_type": "code",
   "execution_count": 4,
   "id": "c3600772",
   "metadata": {},
   "outputs": [],
   "source": [
    "def simp(numerator, denominator):\n",
    "    gcd = 1\n",
    "    for i in range(2, min(numerator, denominator) + 1):\n",
    "        if numerator % i == 0 and denominator % i == 0:\n",
    "            gcd = i\n",
    "    return numerator//gcd, denominator//gcd\n",
    "def coterminal(degree):\n",
    "    d = degree % 360\n",
    "    res = simp(d, 180)\n",
    "    print(f\"degree: {d}\")\n",
    "    print(f\"radian: {res[0]}/{res[1]} pi\")\n",
    "    return res\n",
    "def pi_to_degree(numerator, denomiter):\n",
    "    return 180 * numerator / denomiter"
   ]
  },
  {
   "cell_type": "code",
   "execution_count": 5,
   "id": "53fd5388",
   "metadata": {},
   "outputs": [
    {
     "name": "stdout",
     "output_type": "stream",
     "text": [
      "degree: 222\n",
      "radian: 37/30 pi\n"
     ]
    },
    {
     "data": {
      "text/plain": [
       "(37, 30)"
      ]
     },
     "execution_count": 5,
     "metadata": {},
     "output_type": "execute_result"
    }
   ],
   "source": [
    "coterminal(-138)"
   ]
  },
  {
   "cell_type": "code",
   "execution_count": 6,
   "id": "93aab782",
   "metadata": {},
   "outputs": [
    {
     "data": {
      "text/plain": [
       "-210.0"
      ]
     },
     "execution_count": 6,
     "metadata": {},
     "output_type": "execute_result"
    }
   ],
   "source": [
    "pi_to_degree(-7, 6)"
   ]
  },
  {
   "cell_type": "code",
   "execution_count": 7,
   "id": "14a8fb7c",
   "metadata": {},
   "outputs": [
    {
     "data": {
      "text/plain": [
       "(23, 30)"
      ]
     },
     "execution_count": 7,
     "metadata": {},
     "output_type": "execute_result"
    }
   ],
   "source": [
    "simp(138,180)"
   ]
  },
  {
   "cell_type": "code",
   "execution_count": 8,
   "id": "55b86e7f",
   "metadata": {},
   "outputs": [
    {
     "data": {
      "text/plain": [
       "682"
      ]
     },
     "execution_count": 8,
     "metadata": {},
     "output_type": "execute_result"
    }
   ],
   "source": [
    "322 + 360"
   ]
  },
  {
   "cell_type": "code",
   "execution_count": 57,
   "id": "c6a7276a",
   "metadata": {},
   "outputs": [],
   "source": [
    "import math\n",
    "from math import sin, cos, sqrt, tan, pi\n",
    "\n",
    "def calc_line_length(a, b, c):\n",
    "    if not a:\n",
    "        return (sqrt(c*c - b*b), b, c)\n",
    "    if not b:\n",
    "        return (a, sqrt(c*c - a*a), c)\n",
    "    if not c:\n",
    "        return (a, b, sqrt(a*a + b*b))\n",
    "def calc_sin_using_lines(a, b, c):\n",
    "    x, y, z = calc_line_length(a, b, c)\n",
    "    sin_a = x / z\n",
    "    cos_a = y / z\n",
    "    tan_a = x / y\n",
    "    sec_a = z / y\n",
    "    csc_a = z / x\n",
    "    cot_a = y / x\n",
    "    res = {\n",
    "        \"sin\": sin_a,\n",
    "        \"cos\": cos_a,\n",
    "        \"tan\": tan_a,\n",
    "        \"sec\": sec_a,\n",
    "        \"csc\": csc_a,\n",
    "        \"cot\": cot_a\n",
    "    }\n",
    "    print(res)\n",
    "    return res\n",
    "\n",
    "def calc_lines_with_a_and_A(a, A, b, B, c, C):\n",
    "    if a and A:\n",
    "        c = a / sin(pi * A/180)\n",
    "        b = a / tan(pi * A/180)\n",
    "        return {\n",
    "            \"b\": b,\n",
    "            \"c\": c,\n",
    "            \"B\": 90 - A\n",
    "        }\n",
    "    if c and A:\n",
    "        a = sin(pi * A / 180) * c\n",
    "        b = sqrt(c * c - a * a)\n",
    "        B = 90 - A\n",
    "        return {\n",
    "            \"a\": a,\n",
    "            \"b\": b,\n",
    "            \"B\": 90 - A\n",
    "        }\n",
    "    if a and c:\n",
    "        b = sqrt(c * c - a * a)\n",
    "        return {\n",
    "            \"b\": b,\n",
    "            \"sin\": a / c,\n",
    "            \"cos\": b / c,\n",
    "            \"tan\": a / b,\n",
    "            \"sec\": c / b,\n",
    "            \"csc\": c / a,\n",
    "            \"cot\": b / a\n",
    "        }\n",
    "    if a and b:\n",
    "        c = sqrt(a * a + b * b)\n",
    "        return {\n",
    "            \"c\": c,\n",
    "            \"sin\": a / c,\n",
    "            \"cos\": b / c,\n",
    "            \"tan\": a / b,\n",
    "            \"cot\": b / a,\n",
    "            \"sec\": c / b,\n",
    "            \"csc\": c / a\n",
    "        }\n",
    "    \n",
    "    \n",
    "\n",
    "def calc_a_with_c_and_angel(c, angel):\n",
    "    a = sin(angel) * c\n",
    "    print(f\"a is {a}, b is {calc_line_length(a, None, 7)[1]}, c is {c}\")\n",
    "    return a"
   ]
  },
  {
   "cell_type": "code",
   "execution_count": 58,
   "id": "68837653",
   "metadata": {},
   "outputs": [
    {
     "name": "stdout",
     "output_type": "stream",
     "text": [
      "a is 6.761480784023478, b is 1.8117333157176458, c is 7\n"
     ]
    },
    {
     "data": {
      "text/plain": [
       "6.761480784023478"
      ]
     },
     "execution_count": 58,
     "metadata": {},
     "output_type": "execute_result"
    }
   ],
   "source": [
    "calc_a_with_c_and_angel(7, math.pi*75/180)"
   ]
  },
  {
   "cell_type": "code",
   "execution_count": 59,
   "id": "1361a226",
   "metadata": {},
   "outputs": [
    {
     "name": "stdout",
     "output_type": "stream",
     "text": [
      "{'sin': 0.2222222222222222, 'cos': 0.9749960430435691, 'tan': 0.2279211529192759, 'sec': 1.0256451881367414, 'csc': 4.5, 'cot': 4.387482193696061}\n"
     ]
    },
    {
     "data": {
      "text/plain": [
       "{'sin': 0.2222222222222222,\n",
       " 'cos': 0.9749960430435691,\n",
       " 'tan': 0.2279211529192759,\n",
       " 'sec': 1.0256451881367414,\n",
       " 'csc': 4.5,\n",
       " 'cot': 4.387482193696061}"
      ]
     },
     "execution_count": 59,
     "metadata": {},
     "output_type": "execute_result"
    }
   ],
   "source": [
    "calc_sin_using_lines(2, None, 9)"
   ]
  },
  {
   "cell_type": "code",
   "execution_count": 60,
   "id": "53163209",
   "metadata": {},
   "outputs": [
    {
     "data": {
      "text/plain": [
       "{'b': 6.350852961085885, 'c': 12.701705922171767, 'B': 30}"
      ]
     },
     "execution_count": 60,
     "metadata": {},
     "output_type": "execute_result"
    }
   ],
   "source": [
    "calc_lines_with_a_and_A(11, 60, None, None, None, None)"
   ]
  },
  {
   "cell_type": "code",
   "execution_count": 61,
   "id": "4c51455b",
   "metadata": {},
   "outputs": [
    {
     "data": {
      "text/plain": [
       "{'b': 17.01384545885313, 'c': 17.276311449430903, 'B': 80}"
      ]
     },
     "execution_count": 61,
     "metadata": {},
     "output_type": "execute_result"
    }
   ],
   "source": [
    "calc_lines_with_a_and_A(3, 10, None, None, None, None)"
   ]
  },
  {
   "cell_type": "code",
   "execution_count": 62,
   "id": "6f25002a",
   "metadata": {},
   "outputs": [
    {
     "data": {
      "text/plain": [
       "{'a': 4.499999999999999, 'b': 7.794228634059948, 'B': 60}"
      ]
     },
     "execution_count": 62,
     "metadata": {},
     "output_type": "execute_result"
    }
   ],
   "source": [
    "calc_lines_with_a_and_A(None, 30, None, None, 9, None)"
   ]
  },
  {
   "cell_type": "code",
   "execution_count": 63,
   "id": "c3030fea",
   "metadata": {},
   "outputs": [],
   "source": [
    "def calc_sin_or_cos(val):\n",
    "    res = sqrt(1 - val * val)\n",
    "    return res"
   ]
  },
  {
   "cell_type": "code",
   "execution_count": 64,
   "id": "1d087f56",
   "metadata": {},
   "outputs": [
    {
     "data": {
      "text/plain": [
       "0.5527707983925666"
      ]
     },
     "execution_count": 64,
     "metadata": {},
     "output_type": "execute_result"
    }
   ],
   "source": [
    "calc_sin_or_cos(-5/6)"
   ]
  },
  {
   "cell_type": "code",
   "execution_count": 65,
   "id": "3dc8860c",
   "metadata": {},
   "outputs": [
    {
     "data": {
      "text/plain": [
       "(-6.4278760968653925, -7.66044443118978)"
      ]
     },
     "execution_count": 65,
     "metadata": {},
     "output_type": "execute_result"
    }
   ],
   "source": [
    "10 * sin(pi*220/180), 10 * cos(pi*220/180)"
   ]
  },
  {
   "cell_type": "code",
   "execution_count": 66,
   "id": "73494b86",
   "metadata": {},
   "outputs": [
    {
     "data": {
      "text/plain": [
       "0.9805000000000001"
      ]
     },
     "execution_count": 66,
     "metadata": {},
     "output_type": "execute_result"
    }
   ],
   "source": [
    "0.93*0.93 + 0.34 *0.34"
   ]
  },
  {
   "cell_type": "code",
   "execution_count": 67,
   "id": "20fd7f72",
   "metadata": {},
   "outputs": [
    {
     "data": {
      "text/plain": [
       "98.05000000000001"
      ]
     },
     "execution_count": 67,
     "metadata": {},
     "output_type": "execute_result"
    }
   ],
   "source": [
    "9.3*9.3 + 3.4 * 3.4"
   ]
  },
  {
   "cell_type": "code",
   "execution_count": 68,
   "id": "7f8e052d",
   "metadata": {},
   "outputs": [
    {
     "data": {
      "text/plain": [
       "{'b': 3.605551275463989,\n",
       " 'sin': 0.8571428571428571,\n",
       " 'cos': 0.5150787536377127,\n",
       " 'tan': 1.6641005886756874,\n",
       " 'sec': 1.9414506867883021,\n",
       " 'csc': 1.1666666666666667,\n",
       " 'cot': 0.6009252125773316}"
      ]
     },
     "execution_count": 68,
     "metadata": {},
     "output_type": "execute_result"
    }
   ],
   "source": [
    "calc_lines_with_a_and_A(6, None, None, None, 7, None)"
   ]
  },
  {
   "cell_type": "code",
   "execution_count": 69,
   "id": "3705c291",
   "metadata": {},
   "outputs": [
    {
     "data": {
      "text/plain": [
       "34.930646145935874"
      ]
     },
     "execution_count": 69,
     "metadata": {},
     "output_type": "execute_result"
    }
   ],
   "source": [
    "sin(pi*76/180) * 36"
   ]
  },
  {
   "cell_type": "code",
   "execution_count": 71,
   "id": "5c63d45a",
   "metadata": {},
   "outputs": [
    {
     "data": {
      "text/plain": [
       "{'c': 12.649110640673518,\n",
       " 'sin': 0.31622776601683794,\n",
       " 'cos': 0.9486832980505138,\n",
       " 'tan': 0.3333333333333333,\n",
       " 'cot': 3.0,\n",
       " 'sec': 1.0540925533894598,\n",
       " 'csc': 3.1622776601683795}"
      ]
     },
     "execution_count": 71,
     "metadata": {},
     "output_type": "execute_result"
    }
   ],
   "source": [
    "calc_lines_with_a_and_A(4, None, 12,None, None, None)"
   ]
  },
  {
   "cell_type": "code",
   "execution_count": 87,
   "id": "58989771",
   "metadata": {},
   "outputs": [
    {
     "data": {
      "text/plain": [
       "{'b': 10.392304845413264,\n",
       " 'sin': 0.5,\n",
       " 'cos': 0.8660254037844387,\n",
       " 'tan': 0.5773502691896257,\n",
       " 'sec': 1.1547005383792515,\n",
       " 'csc': 2.0,\n",
       " 'cot': 1.7320508075688774}"
      ]
     },
     "execution_count": 87,
     "metadata": {},
     "output_type": "execute_result"
    }
   ],
   "source": [
    "calc_lines_with_a_and_A(6, None, None, None, 12, None)"
   ]
  },
  {
   "cell_type": "code",
   "execution_count": 73,
   "id": "4234d6a5",
   "metadata": {},
   "outputs": [
    {
     "data": {
      "text/plain": [
       "29.77638454923966"
      ]
     },
     "execution_count": 73,
     "metadata": {},
     "output_type": "execute_result"
    }
   ],
   "source": [
    "30 * sin(pi * 83/180)"
   ]
  },
  {
   "cell_type": "code",
   "execution_count": 75,
   "id": "2e7362fb",
   "metadata": {},
   "outputs": [
    {
     "data": {
      "text/plain": [
       "461.94014341687875"
      ]
     },
     "execution_count": 75,
     "metadata": {},
     "output_type": "execute_result"
    }
   ],
   "source": [
    "5280 * tan(pi * 5 / 180)"
   ]
  },
  {
   "cell_type": "code",
   "execution_count": 80,
   "id": "024ddf78",
   "metadata": {},
   "outputs": [
    {
     "data": {
      "text/plain": [
       "329.66525223811584"
      ]
     },
     "execution_count": 80,
     "metadata": {},
     "output_type": "execute_result"
    }
   ],
   "source": [
    "tan(pi * 37 / 180) * 275 + tan(pi * 24 / 180) * 275"
   ]
  },
  {
   "cell_type": "code",
   "execution_count": 79,
   "id": "17067584",
   "metadata": {},
   "outputs": [
    {
     "data": {
      "text/plain": [
       "122.43788845984743"
      ]
     },
     "execution_count": 79,
     "metadata": {},
     "output_type": "execute_result"
    }
   ],
   "source": [
    "tan(pi * 24 / 180) * 275"
   ]
  },
  {
   "cell_type": "code",
   "execution_count": 81,
   "id": "105231fb",
   "metadata": {},
   "outputs": [
    {
     "data": {
      "text/plain": [
       "292.62001779625905"
      ]
     },
     "execution_count": 81,
     "metadata": {},
     "output_type": "execute_result"
    }
   ],
   "source": [
    "94 / tan(pi * 27/180) + 94 / tan(pi * 41 / 180)"
   ]
  },
  {
   "cell_type": "code",
   "execution_count": 82,
   "id": "aeddb084",
   "metadata": {},
   "outputs": [
    {
     "data": {
      "text/plain": [
       "0.9270248108869579"
      ]
     },
     "execution_count": 82,
     "metadata": {},
     "output_type": "execute_result"
    }
   ],
   "source": [
    "sqrt(1 - (3/8) * (3/8))"
   ]
  },
  {
   "cell_type": "code",
   "execution_count": 83,
   "id": "ff7cdc1a",
   "metadata": {},
   "outputs": [
    {
     "data": {
      "text/plain": [
       "55"
      ]
     },
     "execution_count": 83,
     "metadata": {},
     "output_type": "execute_result"
    }
   ],
   "source": [
    "64 - 9"
   ]
  },
  {
   "cell_type": "code",
   "execution_count": 86,
   "id": "bbb79c67",
   "metadata": {},
   "outputs": [
    {
     "data": {
      "text/plain": [
       "(24.57456132866976, -17.207293090531376)"
      ]
     },
     "execution_count": 86,
     "metadata": {},
     "output_type": "execute_result"
    }
   ],
   "source": [
    "sin(pi * 125/180)*30, cos(pi * 125/180) * 30"
   ]
  },
  {
   "cell_type": "code",
   "execution_count": 85,
   "id": "f6b2fd98",
   "metadata": {},
   "outputs": [
    {
     "data": {
      "text/plain": [
       "18.584804413942305"
      ]
     },
     "execution_count": 85,
     "metadata": {},
     "output_type": "execute_result"
    }
   ],
   "source": [
    "19*sin(pi*78/180)"
   ]
  },
  {
   "cell_type": "code",
   "execution_count": null,
   "id": "017f15ce",
   "metadata": {},
   "outputs": [],
   "source": []
  }
 ],
 "metadata": {
  "kernelspec": {
   "display_name": "Python 3 (ipykernel)",
   "language": "python",
   "name": "python3"
  },
  "language_info": {
   "codemirror_mode": {
    "name": "ipython",
    "version": 3
   },
   "file_extension": ".py",
   "mimetype": "text/x-python",
   "name": "python",
   "nbconvert_exporter": "python",
   "pygments_lexer": "ipython3",
   "version": "3.10.6"
  }
 },
 "nbformat": 4,
 "nbformat_minor": 5
}
