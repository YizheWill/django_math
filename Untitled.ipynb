{
 "cells": [
  {
   "cell_type": "code",
   "execution_count": 1,
   "id": "54c83634",
   "metadata": {},
   "outputs": [],
   "source": [
    "import math\n",
    "\n",
    "\n",
    "def is_square(n):\n",
    "    sqrt = math.sqrt(n)\n",
    "    return (sqrt - int(sqrt)) == 0\n",
    "\n",
    "# dealing with integers only\n",
    "def simplify_fraction(numerator, denominator):\n",
    "    gcd = 1\n",
    "    for i in range(2, min(numerator, denominator) + 1):\n",
    "        if numerator % i == 0 and denominator % i == 0:\n",
    "            gcd = i\n",
    "    return numerator//gcd, denominator//gcd\n"
   ]
  },
  {
   "cell_type": "code",
   "execution_count": 7,
   "id": "1ecbff93",
   "metadata": {},
   "outputs": [],
   "source": [
    "# dealing with integer a, b, c only\n",
    "def quadratic_equation(a, b, c):\n",
    "    print('a: ', a)\n",
    "    print('b: ', b)\n",
    "    print('c: ', c)\n",
    "    delta = b * b -  4 * a * c\n",
    "    print('delta: ', delta)\n",
    "    vertex_x = simplify_fraction(-b, 2 * a)\n",
    "    vertex_y = simplify_fraction(-delta, 4 * a)\n",
    "    print('vertex: ', 'x: ', f\"{vertex_x[0]}/{vertex_x[1]}\", '; y: ', f\"{vertex_y[0]}/{vertex_y[1]}\")\n",
    "    print(f\"equation is symmetric about x = {vertex_x[0]}/{vertex_x[1]}\")\n",
    "    print(\"y intercept is: \", f\"(0, {c})\")\n",
    "    is_s = is_square(delta)\n",
    "    if is_s:\n",
    "        res = simplify_fraction(-b - int(math.sqrt(delta)),  2 * a), simplify_fraction(-b + int(math.sqrt(delta)), 2 * a)\n",
    "    else:\n",
    "        res = f\"({-b}-sqrt{delta})/{2 * a} , ({-b}+sqrt{delta})/{2 * a}\"\n",
    "    print('results are: ', f\"{res[0][0]}/{res[0][1]}, and {res[1][0]}/{res[1][1]}\")\n",
    "\n",
    "def quadratic_x_to_y(x, a, b, c):\n",
    "    res = a * x * x + b * x + c\n",
    "    print(f\"x: {x}, y: {res}\")\n",
    "    return res"
   ]
  },
  {
   "cell_type": "markdown",
   "id": "09359f75",
   "metadata": {},
   "source": [
    "## TRIGNOMIGRY\n"
   ]
  },
  {
   "cell_type": "code",
   "execution_count": null,
   "id": "3fab72b3",
   "metadata": {},
   "outputs": [],
   "source": [
    "def degee_to_radian(degree):\n",
    "    numerator, denominator = simplify_fraction(degree/180)\n",
    "    return f\"{numerator}/{denominator} PI\""
   ]
  },
  {
   "cell_type": "markdown",
   "id": "77a0cf29",
   "metadata": {},
   "source": [
    "## test"
   ]
  },
  {
   "cell_type": "code",
   "execution_count": 3,
   "id": "a3451a77",
   "metadata": {},
   "outputs": [
    {
     "name": "stdout",
     "output_type": "stream",
     "text": [
      "a:  1\n",
      "b:  -3\n",
      "c:  2\n",
      "delta:  1\n",
      "vertex:  x:  3/2 ; y:  -1/4\n",
      "equation is symmetric about x = 3/2\n",
      "y intercept is:  (0, 2)\n",
      "results are:  1/1, and 2/1\n"
     ]
    }
   ],
   "source": [
    "quadratic_equation(1, -3, 2)"
   ]
  },
  {
   "cell_type": "markdown",
   "id": "9e98dc7d",
   "metadata": {},
   "source": [
    "## test"
   ]
  },
  {
   "cell_type": "code",
   "execution_count": 4,
   "id": "a17b507a",
   "metadata": {},
   "outputs": [
    {
     "name": "stdout",
     "output_type": "stream",
     "text": [
      "x: 10, y: 72\n"
     ]
    },
    {
     "data": {
      "text/plain": [
       "72"
      ]
     },
     "execution_count": 4,
     "metadata": {},
     "output_type": "execute_result"
    }
   ],
   "source": [
    "quadratic_x_to_y(10, 1, -3, 2)"
   ]
  },
  {
   "cell_type": "markdown",
   "id": "a8b45c77",
   "metadata": {},
   "source": [
    "### concepts\n",
    "\n",
    "1. intercepts: \n",
    "    - To find the x-intercepts of a graph, let y be zero and solve the equation for x.\n",
    "    - The point (0, b) is a y-intercept of the graph of an equation when it is a solution point of the equation.\n",
    "    - To find the y-intercepts of a graph, let x be zero and solve the equation for y.\n",
    "2. symmetry:\n",
    "    -  1. A graph is symmetric with respect to the y-axis if, whenever (x, y) is a point on the graph, then (–x, y) is also a point on the graph. This means that the portion of the graph to the left of the y-axis is a mirror image of the portion to the right of the y-axis.\n",
    "    - 2. A graph is symmetric with respect to the x-axis if, whenever (x, y) is a point on the graph, then (x, –y) is also a point on the graph. This means that the portion of the graph below the x-axis is a mirror image of the portion above the x-axis.\n",
    "    - 3. A graph is symmetric with respect to the origin if, whenever (x, y) is a point on the graph, then (–x, –y) is also a point on the graph. This means that the graph is unchanged by a rotation of 180o about the origin."
   ]
  },
  {
   "cell_type": "markdown",
   "id": "70c1372c",
   "metadata": {},
   "source": [
    "## linear models and rates of change"
   ]
  },
  {
   "cell_type": "markdown",
   "id": "2f43bef5",
   "metadata": {},
   "source": [
    "1. slope: (y2 - y1) / (x2 - x1)\n",
    "2. point-slope form for the equation of a line:\n",
    "    - y - y<sub>1</sub> = m * (x - x<sub>1</sub>)"
   ]
  },
  {
   "cell_type": "markdown",
   "id": "d0be132a",
   "metadata": {},
   "source": [
    "## functions and their graphs"
   ]
  },
  {
   "cell_type": "markdown",
   "id": "f94d7ea3",
   "metadata": {},
   "source": [
    "1. A relation between two sets X and Y is a set of orderedpairs, each of the form (x, y), where x is a member ofX and y is a member of Y. \n",
    "2. A function from X to Y is a relation between X and Y thathas the property that any two ordered pairs with the same x-value also have the same y-value.\n",
    "3. The variable x is the independent variable, and the variable y is the dependent variable.\n",
    "4. The Domain and Range of a Function\n",
    "    - domain: x range\n",
    "    - range: y range"
   ]
  },
  {
   "cell_type": "code",
   "execution_count": null,
   "id": "42f7d98a",
   "metadata": {},
   "outputs": [],
   "source": []
  }
 ],
 "metadata": {
  "kernelspec": {
   "display_name": "Python 3 (ipykernel)",
   "language": "python",
   "name": "python3"
  },
  "language_info": {
   "codemirror_mode": {
    "name": "ipython",
    "version": 3
   },
   "file_extension": ".py",
   "mimetype": "text/x-python",
   "name": "python",
   "nbconvert_exporter": "python",
   "pygments_lexer": "ipython3",
   "version": "3.10.6"
  }
 },
 "nbformat": 4,
 "nbformat_minor": 5
}
